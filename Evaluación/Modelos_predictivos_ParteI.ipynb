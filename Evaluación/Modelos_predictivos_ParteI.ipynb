{
 "cells": [
  {
   "cell_type": "markdown",
   "metadata": {},
   "source": [
    "# Modelos Predictivos  Parte I"
   ]
  },
  {
   "cell_type": "code",
   "execution_count": 1,
   "metadata": {},
   "outputs": [],
   "source": [
    "import pandas as pd\n",
    "import seaborn as sns\n",
    "import matplotlib.pyplot as plt\n",
    "import warnings \n",
    "warnings.filterwarnings(\"ignore\")"
   ]
  },
  {
   "cell_type": "code",
   "execution_count": 2,
   "metadata": {},
   "outputs": [
    {
     "data": {
      "text/html": [
       "<div>\n",
       "<style scoped>\n",
       "    .dataframe tbody tr th:only-of-type {\n",
       "        vertical-align: middle;\n",
       "    }\n",
       "\n",
       "    .dataframe tbody tr th {\n",
       "        vertical-align: top;\n",
       "    }\n",
       "\n",
       "    .dataframe thead th {\n",
       "        text-align: right;\n",
       "    }\n",
       "</style>\n",
       "<table border=\"1\" class=\"dataframe\">\n",
       "  <thead>\n",
       "    <tr style=\"text-align: right;\">\n",
       "      <th></th>\n",
       "      <th>Dpto</th>\n",
       "      <th>Municipio</th>\n",
       "      <th>desagregacionCultivo</th>\n",
       "      <th>Cultivo</th>\n",
       "      <th>cicloDelCultivo</th>\n",
       "      <th>grupoCultivo</th>\n",
       "      <th>Subgrupo</th>\n",
       "      <th>Anio</th>\n",
       "      <th>Periodo</th>\n",
       "      <th>areaSembradaHa</th>\n",
       "      <th>areaCosechadaHa</th>\n",
       "      <th>produccionTon</th>\n",
       "      <th>rendimientoTonHa</th>\n",
       "      <th>nombreCientificoCultivo</th>\n",
       "      <th>estadoFisicoCultivo</th>\n",
       "    </tr>\n",
       "  </thead>\n",
       "  <tbody>\n",
       "    <tr>\n",
       "      <th>0</th>\n",
       "      <td>Boyacá</td>\n",
       "      <td>Tunja</td>\n",
       "      <td>Fresa</td>\n",
       "      <td>Fresa</td>\n",
       "      <td>Permanente</td>\n",
       "      <td>Frutales</td>\n",
       "      <td>Demas frutales</td>\n",
       "      <td>2019</td>\n",
       "      <td>C</td>\n",
       "      <td>3.0</td>\n",
       "      <td>3.0</td>\n",
       "      <td>30.0</td>\n",
       "      <td>10.0</td>\n",
       "      <td>Fragaria vesca</td>\n",
       "      <td>En fresco</td>\n",
       "    </tr>\n",
       "    <tr>\n",
       "      <th>1</th>\n",
       "      <td>Boyacá</td>\n",
       "      <td>Tunja</td>\n",
       "      <td>Avena</td>\n",
       "      <td>Avena</td>\n",
       "      <td>Transitorio</td>\n",
       "      <td>Cereales</td>\n",
       "      <td>Cereales</td>\n",
       "      <td>2019</td>\n",
       "      <td>A</td>\n",
       "      <td>160.0</td>\n",
       "      <td>160.0</td>\n",
       "      <td>480.0</td>\n",
       "      <td>3.0</td>\n",
       "      <td>Avena sativa</td>\n",
       "      <td>En fresco</td>\n",
       "    </tr>\n",
       "    <tr>\n",
       "      <th>2</th>\n",
       "      <td>Boyacá</td>\n",
       "      <td>Tunja</td>\n",
       "      <td>Cebada</td>\n",
       "      <td>Cebada</td>\n",
       "      <td>Transitorio</td>\n",
       "      <td>Cereales</td>\n",
       "      <td>Cereales</td>\n",
       "      <td>2019</td>\n",
       "      <td>A</td>\n",
       "      <td>20.0</td>\n",
       "      <td>20.0</td>\n",
       "      <td>60.0</td>\n",
       "      <td>3.0</td>\n",
       "      <td>Hordeum vulgare</td>\n",
       "      <td>En fresco</td>\n",
       "    </tr>\n",
       "    <tr>\n",
       "      <th>3</th>\n",
       "      <td>Boyacá</td>\n",
       "      <td>Tunja</td>\n",
       "      <td>Maíz Tradicional</td>\n",
       "      <td>Maíz</td>\n",
       "      <td>Transitorio</td>\n",
       "      <td>Cereales</td>\n",
       "      <td>Cereales</td>\n",
       "      <td>2019</td>\n",
       "      <td>A</td>\n",
       "      <td>180.0</td>\n",
       "      <td>180.0</td>\n",
       "      <td>360.0</td>\n",
       "      <td>2.0</td>\n",
       "      <td>Zea mays</td>\n",
       "      <td>En fresco</td>\n",
       "    </tr>\n",
       "    <tr>\n",
       "      <th>4</th>\n",
       "      <td>Boyacá</td>\n",
       "      <td>Tunja</td>\n",
       "      <td>Cebolla De Bulbo</td>\n",
       "      <td>Cebolla De Bulbo</td>\n",
       "      <td>Transitorio</td>\n",
       "      <td>Hortalizas</td>\n",
       "      <td>Hortalizas de raíz</td>\n",
       "      <td>2019</td>\n",
       "      <td>A</td>\n",
       "      <td>120.0</td>\n",
       "      <td>120.0</td>\n",
       "      <td>2400.0</td>\n",
       "      <td>20.0</td>\n",
       "      <td>Allium cepa</td>\n",
       "      <td>En fresco</td>\n",
       "    </tr>\n",
       "  </tbody>\n",
       "</table>\n",
       "</div>"
      ],
      "text/plain": [
       "     Dpto Municipio desagregacionCultivo           Cultivo cicloDelCultivo  \\\n",
       "0  Boyacá     Tunja                Fresa             Fresa      Permanente   \n",
       "1  Boyacá     Tunja                Avena             Avena     Transitorio   \n",
       "2  Boyacá     Tunja               Cebada            Cebada     Transitorio   \n",
       "3  Boyacá     Tunja     Maíz Tradicional              Maíz     Transitorio   \n",
       "4  Boyacá     Tunja     Cebolla De Bulbo  Cebolla De Bulbo     Transitorio   \n",
       "\n",
       "  grupoCultivo            Subgrupo  Anio Periodo  areaSembradaHa  \\\n",
       "0     Frutales      Demas frutales  2019       C             3.0   \n",
       "1     Cereales            Cereales  2019       A           160.0   \n",
       "2     Cereales            Cereales  2019       A            20.0   \n",
       "3     Cereales            Cereales  2019       A           180.0   \n",
       "4   Hortalizas  Hortalizas de raíz  2019       A           120.0   \n",
       "\n",
       "   areaCosechadaHa  produccionTon  rendimientoTonHa nombreCientificoCultivo  \\\n",
       "0              3.0           30.0              10.0          Fragaria vesca   \n",
       "1            160.0          480.0               3.0            Avena sativa   \n",
       "2             20.0           60.0               3.0         Hordeum vulgare   \n",
       "3            180.0          360.0               2.0                Zea mays   \n",
       "4            120.0         2400.0              20.0             Allium cepa   \n",
       "\n",
       "  estadoFisicoCultivo  \n",
       "0           En fresco  \n",
       "1           En fresco  \n",
       "2           En fresco  \n",
       "3           En fresco  \n",
       "4           En fresco  "
      ]
     },
     "execution_count": 2,
     "metadata": {},
     "output_type": "execute_result"
    }
   ],
   "source": [
    "# importacion de los datos a df_agro\n",
    "df_agro = pd.read_csv(r'..\\\\Bases de datos\\\\EvaluacionAgro02.csv',sep=';')\n",
    "df_agro.head()"
   ]
  },
  {
   "cell_type": "code",
   "execution_count": 3,
   "metadata": {},
   "outputs": [
    {
     "data": {
      "text/plain": [
       "(17743, 15)"
      ]
     },
     "execution_count": 3,
     "metadata": {},
     "output_type": "execute_result"
    }
   ],
   "source": [
    "df_agro.shape"
   ]
  },
  {
   "cell_type": "markdown",
   "metadata": {},
   "source": [
    "# *Modelo de regresión para la predicción del rendimientoTonHa de cultivos.*"
   ]
  },
  {
   "cell_type": "markdown",
   "metadata": {},
   "source": [
    "## 1. Técnicas de preprocesamiento de datos"
   ]
  },
  {
   "cell_type": "markdown",
   "metadata": {},
   "source": [
    "### 1.1. Label Encoding"
   ]
  },
  {
   "cell_type": "code",
   "execution_count": 4,
   "metadata": {},
   "outputs": [],
   "source": [
    "df_agro['grupoCultivoOrd'] = df_agro['grupoCultivo'].map(\n",
    "    {   'Frutales':1\n",
    "        ,'Hortalizas':2\n",
    "        ,'Leguminosas':3\n",
    "        ,'Raíces y Tubérculos':4\n",
    "        ,'Cereales':5\n",
    "        ,'Cultivos Tropicales Tradicionales':6\n",
    "        ,'Condimentos Bebidas y Aromáticas':7\n",
    "        ,'Oleaginosas':8\n",
    "    })\n",
    "df_agro['EstadoFinalOrd'] = df_agro['estadoFisicoCultivo'].map({\n",
    "        'En fresco':0\n",
    "        ,'Grano seco':1\n",
    "        ,'Grano':2\n",
    "        ,'Pergamino o seco de trilla':3\n",
    "        ,'Caña o verde':4\n",
    "        ,'Paddy o cascara verde':5\n",
    "        ,'Fibra o cabuya':6\n",
    "        ,'Aceite crudo':7\n",
    "        ,'Algodón semilla':8\n",
    "})\n",
    "# df_agro['EstadoFinalFre'] = df_agro['estadoFisicoCultivo'].map(df_agro['estadoFisicoCultivo'].value_counts().to_dict())\n",
    "df_agro['PeriodoOrd'] = df_agro['Periodo'].map({'A':0,'B':1,'C':2})\n",
    "# df_agro['DptoOrd'] = df_agro['Dpto'].map({'Boyacá':0,'Cundinamarca':1})\n",
    "df_agro['CicloOrd'] = df_agro['cicloDelCultivo'].map({'Transitorio':0,'Permanente':1})\n",
    "# from sklearn.preprocessing import LabelEncoder\n",
    "\n",
    "# label_encoder = LabelEncoder()\n",
    "# df_agro['CultivoOrd'] = label_encoder.fit_transform(df_agro['Cultivo'])"
   ]
  },
  {
   "cell_type": "markdown",
   "metadata": {},
   "source": [
    "### 1.2. Frequency Encoding:"
   ]
  },
  {
   "cell_type": "code",
   "execution_count": 5,
   "metadata": {},
   "outputs": [
    {
     "name": "stdout",
     "output_type": "stream",
     "text": [
      "<class 'pandas.core.frame.DataFrame'>\n",
      "RangeIndex: 17743 entries, 0 to 17742\n",
      "Data columns (total 20 columns):\n",
      " #   Column                   Non-Null Count  Dtype  \n",
      "---  ------                   --------------  -----  \n",
      " 0   Dpto                     17743 non-null  object \n",
      " 1   Municipio                17743 non-null  object \n",
      " 2   desagregacionCultivo     17743 non-null  object \n",
      " 3   Cultivo                  17743 non-null  object \n",
      " 4   cicloDelCultivo          17743 non-null  object \n",
      " 5   grupoCultivo             17743 non-null  object \n",
      " 6   Subgrupo                 17743 non-null  object \n",
      " 7   Anio                     17743 non-null  int64  \n",
      " 8   Periodo                  17743 non-null  object \n",
      " 9   areaSembradaHa           17743 non-null  float64\n",
      " 10  areaCosechadaHa          17743 non-null  float64\n",
      " 11  produccionTon            17743 non-null  float64\n",
      " 12  rendimientoTonHa         17743 non-null  float64\n",
      " 13  nombreCientificoCultivo  17743 non-null  object \n",
      " 14  estadoFisicoCultivo      17743 non-null  object \n",
      " 15  grupoCultivoOrd          17743 non-null  int64  \n",
      " 16  EstadoFinalOrd           17743 non-null  int64  \n",
      " 17  PeriodoOrd               17743 non-null  int64  \n",
      " 18  CicloOrd                 17743 non-null  int64  \n",
      " 19  CultivoFre               17743 non-null  int64  \n",
      "dtypes: float64(4), int64(6), object(10)\n",
      "memory usage: 2.7+ MB\n"
     ]
    }
   ],
   "source": [
    "dict_cultivo = df_agro['Cultivo'].value_counts().to_dict()\n",
    "df_agro['CultivoFre'] = df_agro['Cultivo'].map(dict_cultivo)\n",
    "df_agro.info()"
   ]
  },
  {
   "cell_type": "code",
   "execution_count": 6,
   "metadata": {},
   "outputs": [
    {
     "data": {
      "text/html": [
       "<div>\n",
       "<style scoped>\n",
       "    .dataframe tbody tr th:only-of-type {\n",
       "        vertical-align: middle;\n",
       "    }\n",
       "\n",
       "    .dataframe tbody tr th {\n",
       "        vertical-align: top;\n",
       "    }\n",
       "\n",
       "    .dataframe thead th {\n",
       "        text-align: right;\n",
       "    }\n",
       "</style>\n",
       "<table border=\"1\" class=\"dataframe\">\n",
       "  <thead>\n",
       "    <tr style=\"text-align: right;\">\n",
       "      <th></th>\n",
       "      <th>Dpto</th>\n",
       "      <th>Municipio</th>\n",
       "      <th>desagregacionCultivo</th>\n",
       "      <th>Cultivo</th>\n",
       "      <th>cicloDelCultivo</th>\n",
       "      <th>grupoCultivo</th>\n",
       "      <th>Subgrupo</th>\n",
       "      <th>Anio</th>\n",
       "      <th>Periodo</th>\n",
       "      <th>areaSembradaHa</th>\n",
       "      <th>areaCosechadaHa</th>\n",
       "      <th>produccionTon</th>\n",
       "      <th>rendimientoTonHa</th>\n",
       "      <th>nombreCientificoCultivo</th>\n",
       "      <th>estadoFisicoCultivo</th>\n",
       "      <th>grupoCultivoOrd</th>\n",
       "      <th>EstadoFinalOrd</th>\n",
       "      <th>PeriodoOrd</th>\n",
       "      <th>CicloOrd</th>\n",
       "      <th>CultivoFre</th>\n",
       "    </tr>\n",
       "  </thead>\n",
       "  <tbody>\n",
       "    <tr>\n",
       "      <th>0</th>\n",
       "      <td>Boyacá</td>\n",
       "      <td>Tunja</td>\n",
       "      <td>Fresa</td>\n",
       "      <td>Fresa</td>\n",
       "      <td>Permanente</td>\n",
       "      <td>Frutales</td>\n",
       "      <td>Demas frutales</td>\n",
       "      <td>2019</td>\n",
       "      <td>C</td>\n",
       "      <td>3.0</td>\n",
       "      <td>3.0</td>\n",
       "      <td>30.0</td>\n",
       "      <td>10.0</td>\n",
       "      <td>Fragaria vesca</td>\n",
       "      <td>En fresco</td>\n",
       "      <td>1</td>\n",
       "      <td>0</td>\n",
       "      <td>2</td>\n",
       "      <td>1</td>\n",
       "      <td>223</td>\n",
       "    </tr>\n",
       "    <tr>\n",
       "      <th>1</th>\n",
       "      <td>Boyacá</td>\n",
       "      <td>Tunja</td>\n",
       "      <td>Avena</td>\n",
       "      <td>Avena</td>\n",
       "      <td>Transitorio</td>\n",
       "      <td>Cereales</td>\n",
       "      <td>Cereales</td>\n",
       "      <td>2019</td>\n",
       "      <td>A</td>\n",
       "      <td>160.0</td>\n",
       "      <td>160.0</td>\n",
       "      <td>480.0</td>\n",
       "      <td>3.0</td>\n",
       "      <td>Avena sativa</td>\n",
       "      <td>En fresco</td>\n",
       "      <td>5</td>\n",
       "      <td>0</td>\n",
       "      <td>0</td>\n",
       "      <td>0</td>\n",
       "      <td>88</td>\n",
       "    </tr>\n",
       "    <tr>\n",
       "      <th>2</th>\n",
       "      <td>Boyacá</td>\n",
       "      <td>Tunja</td>\n",
       "      <td>Cebada</td>\n",
       "      <td>Cebada</td>\n",
       "      <td>Transitorio</td>\n",
       "      <td>Cereales</td>\n",
       "      <td>Cereales</td>\n",
       "      <td>2019</td>\n",
       "      <td>A</td>\n",
       "      <td>20.0</td>\n",
       "      <td>20.0</td>\n",
       "      <td>60.0</td>\n",
       "      <td>3.0</td>\n",
       "      <td>Hordeum vulgare</td>\n",
       "      <td>En fresco</td>\n",
       "      <td>5</td>\n",
       "      <td>0</td>\n",
       "      <td>0</td>\n",
       "      <td>0</td>\n",
       "      <td>186</td>\n",
       "    </tr>\n",
       "    <tr>\n",
       "      <th>3</th>\n",
       "      <td>Boyacá</td>\n",
       "      <td>Tunja</td>\n",
       "      <td>Maíz Tradicional</td>\n",
       "      <td>Maíz</td>\n",
       "      <td>Transitorio</td>\n",
       "      <td>Cereales</td>\n",
       "      <td>Cereales</td>\n",
       "      <td>2019</td>\n",
       "      <td>A</td>\n",
       "      <td>180.0</td>\n",
       "      <td>180.0</td>\n",
       "      <td>360.0</td>\n",
       "      <td>2.0</td>\n",
       "      <td>Zea mays</td>\n",
       "      <td>En fresco</td>\n",
       "      <td>5</td>\n",
       "      <td>0</td>\n",
       "      <td>0</td>\n",
       "      <td>0</td>\n",
       "      <td>1624</td>\n",
       "    </tr>\n",
       "    <tr>\n",
       "      <th>4</th>\n",
       "      <td>Boyacá</td>\n",
       "      <td>Tunja</td>\n",
       "      <td>Cebolla De Bulbo</td>\n",
       "      <td>Cebolla De Bulbo</td>\n",
       "      <td>Transitorio</td>\n",
       "      <td>Hortalizas</td>\n",
       "      <td>Hortalizas de raíz</td>\n",
       "      <td>2019</td>\n",
       "      <td>A</td>\n",
       "      <td>120.0</td>\n",
       "      <td>120.0</td>\n",
       "      <td>2400.0</td>\n",
       "      <td>20.0</td>\n",
       "      <td>Allium cepa</td>\n",
       "      <td>En fresco</td>\n",
       "      <td>2</td>\n",
       "      <td>0</td>\n",
       "      <td>0</td>\n",
       "      <td>0</td>\n",
       "      <td>541</td>\n",
       "    </tr>\n",
       "  </tbody>\n",
       "</table>\n",
       "</div>"
      ],
      "text/plain": [
       "     Dpto Municipio desagregacionCultivo           Cultivo cicloDelCultivo  \\\n",
       "0  Boyacá     Tunja                Fresa             Fresa      Permanente   \n",
       "1  Boyacá     Tunja                Avena             Avena     Transitorio   \n",
       "2  Boyacá     Tunja               Cebada            Cebada     Transitorio   \n",
       "3  Boyacá     Tunja     Maíz Tradicional              Maíz     Transitorio   \n",
       "4  Boyacá     Tunja     Cebolla De Bulbo  Cebolla De Bulbo     Transitorio   \n",
       "\n",
       "  grupoCultivo            Subgrupo  Anio Periodo  areaSembradaHa  \\\n",
       "0     Frutales      Demas frutales  2019       C             3.0   \n",
       "1     Cereales            Cereales  2019       A           160.0   \n",
       "2     Cereales            Cereales  2019       A            20.0   \n",
       "3     Cereales            Cereales  2019       A           180.0   \n",
       "4   Hortalizas  Hortalizas de raíz  2019       A           120.0   \n",
       "\n",
       "   areaCosechadaHa  produccionTon  rendimientoTonHa nombreCientificoCultivo  \\\n",
       "0              3.0           30.0              10.0          Fragaria vesca   \n",
       "1            160.0          480.0               3.0            Avena sativa   \n",
       "2             20.0           60.0               3.0         Hordeum vulgare   \n",
       "3            180.0          360.0               2.0                Zea mays   \n",
       "4            120.0         2400.0              20.0             Allium cepa   \n",
       "\n",
       "  estadoFisicoCultivo  grupoCultivoOrd  EstadoFinalOrd  PeriodoOrd  CicloOrd  \\\n",
       "0           En fresco                1               0           2         1   \n",
       "1           En fresco                5               0           0         0   \n",
       "2           En fresco                5               0           0         0   \n",
       "3           En fresco                5               0           0         0   \n",
       "4           En fresco                2               0           0         0   \n",
       "\n",
       "   CultivoFre  \n",
       "0         223  \n",
       "1          88  \n",
       "2         186  \n",
       "3        1624  \n",
       "4         541  "
      ]
     },
     "execution_count": 6,
     "metadata": {},
     "output_type": "execute_result"
    }
   ],
   "source": [
    "df_agro.head()"
   ]
  },
  {
   "cell_type": "markdown",
   "metadata": {},
   "source": [
    "### 1.3. Depuración de variables"
   ]
  },
  {
   "cell_type": "code",
   "execution_count": 7,
   "metadata": {},
   "outputs": [
    {
     "data": {
      "text/html": [
       "<div>\n",
       "<style scoped>\n",
       "    .dataframe tbody tr th:only-of-type {\n",
       "        vertical-align: middle;\n",
       "    }\n",
       "\n",
       "    .dataframe tbody tr th {\n",
       "        vertical-align: top;\n",
       "    }\n",
       "\n",
       "    .dataframe thead th {\n",
       "        text-align: right;\n",
       "    }\n",
       "</style>\n",
       "<table border=\"1\" class=\"dataframe\">\n",
       "  <thead>\n",
       "    <tr style=\"text-align: right;\">\n",
       "      <th></th>\n",
       "      <th>Cultivo</th>\n",
       "      <th>grupoCultivo</th>\n",
       "      <th>areaSembradaHa</th>\n",
       "      <th>produccionTon</th>\n",
       "      <th>rendimientoTonHa</th>\n",
       "      <th>grupoCultivoOrd</th>\n",
       "      <th>EstadoFinalOrd</th>\n",
       "      <th>PeriodoOrd</th>\n",
       "      <th>CicloOrd</th>\n",
       "      <th>CultivoFre</th>\n",
       "    </tr>\n",
       "  </thead>\n",
       "  <tbody>\n",
       "    <tr>\n",
       "      <th>0</th>\n",
       "      <td>Fresa</td>\n",
       "      <td>Frutales</td>\n",
       "      <td>3.0</td>\n",
       "      <td>30.0</td>\n",
       "      <td>10.0</td>\n",
       "      <td>1</td>\n",
       "      <td>0</td>\n",
       "      <td>2</td>\n",
       "      <td>1</td>\n",
       "      <td>223</td>\n",
       "    </tr>\n",
       "    <tr>\n",
       "      <th>1</th>\n",
       "      <td>Avena</td>\n",
       "      <td>Cereales</td>\n",
       "      <td>160.0</td>\n",
       "      <td>480.0</td>\n",
       "      <td>3.0</td>\n",
       "      <td>5</td>\n",
       "      <td>0</td>\n",
       "      <td>0</td>\n",
       "      <td>0</td>\n",
       "      <td>88</td>\n",
       "    </tr>\n",
       "    <tr>\n",
       "      <th>2</th>\n",
       "      <td>Cebada</td>\n",
       "      <td>Cereales</td>\n",
       "      <td>20.0</td>\n",
       "      <td>60.0</td>\n",
       "      <td>3.0</td>\n",
       "      <td>5</td>\n",
       "      <td>0</td>\n",
       "      <td>0</td>\n",
       "      <td>0</td>\n",
       "      <td>186</td>\n",
       "    </tr>\n",
       "    <tr>\n",
       "      <th>3</th>\n",
       "      <td>Maíz</td>\n",
       "      <td>Cereales</td>\n",
       "      <td>180.0</td>\n",
       "      <td>360.0</td>\n",
       "      <td>2.0</td>\n",
       "      <td>5</td>\n",
       "      <td>0</td>\n",
       "      <td>0</td>\n",
       "      <td>0</td>\n",
       "      <td>1624</td>\n",
       "    </tr>\n",
       "    <tr>\n",
       "      <th>4</th>\n",
       "      <td>Cebolla De Bulbo</td>\n",
       "      <td>Hortalizas</td>\n",
       "      <td>120.0</td>\n",
       "      <td>2400.0</td>\n",
       "      <td>20.0</td>\n",
       "      <td>2</td>\n",
       "      <td>0</td>\n",
       "      <td>0</td>\n",
       "      <td>0</td>\n",
       "      <td>541</td>\n",
       "    </tr>\n",
       "  </tbody>\n",
       "</table>\n",
       "</div>"
      ],
      "text/plain": [
       "            Cultivo grupoCultivo  areaSembradaHa  produccionTon  \\\n",
       "0             Fresa     Frutales             3.0           30.0   \n",
       "1             Avena     Cereales           160.0          480.0   \n",
       "2            Cebada     Cereales            20.0           60.0   \n",
       "3              Maíz     Cereales           180.0          360.0   \n",
       "4  Cebolla De Bulbo   Hortalizas           120.0         2400.0   \n",
       "\n",
       "   rendimientoTonHa  grupoCultivoOrd  EstadoFinalOrd  PeriodoOrd  CicloOrd  \\\n",
       "0              10.0                1               0           2         1   \n",
       "1               3.0                5               0           0         0   \n",
       "2               3.0                5               0           0         0   \n",
       "3               2.0                5               0           0         0   \n",
       "4              20.0                2               0           0         0   \n",
       "\n",
       "   CultivoFre  \n",
       "0         223  \n",
       "1          88  \n",
       "2         186  \n",
       "3        1624  \n",
       "4         541  "
      ]
     },
     "execution_count": 7,
     "metadata": {},
     "output_type": "execute_result"
    }
   ],
   "source": [
    "df_agro_Nuevo = df_agro.drop(columns=['Dpto','Municipio','nombreCientificoCultivo','Subgrupo',\n",
    "                                      'desagregacionCultivo','areaCosechadaHa','cicloDelCultivo',\n",
    "                                      'Periodo','estadoFisicoCultivo','Anio']) \n",
    "df_agro_Nuevo.head()"
   ]
  },
  {
   "cell_type": "code",
   "execution_count": 8,
   "metadata": {},
   "outputs": [
    {
     "data": {
      "text/html": [
       "<div>\n",
       "<style scoped>\n",
       "    .dataframe tbody tr th:only-of-type {\n",
       "        vertical-align: middle;\n",
       "    }\n",
       "\n",
       "    .dataframe tbody tr th {\n",
       "        vertical-align: top;\n",
       "    }\n",
       "\n",
       "    .dataframe thead th {\n",
       "        text-align: right;\n",
       "    }\n",
       "</style>\n",
       "<table border=\"1\" class=\"dataframe\">\n",
       "  <thead>\n",
       "    <tr style=\"text-align: right;\">\n",
       "      <th></th>\n",
       "      <th>count</th>\n",
       "      <th>mean</th>\n",
       "      <th>std</th>\n",
       "      <th>min</th>\n",
       "      <th>25%</th>\n",
       "      <th>50%</th>\n",
       "      <th>75%</th>\n",
       "      <th>max</th>\n",
       "    </tr>\n",
       "  </thead>\n",
       "  <tbody>\n",
       "    <tr>\n",
       "      <th>areaSembradaHa</th>\n",
       "      <td>17743.0</td>\n",
       "      <td>92.271643</td>\n",
       "      <td>368.156547</td>\n",
       "      <td>0.0</td>\n",
       "      <td>5.00</td>\n",
       "      <td>15.0</td>\n",
       "      <td>51.000</td>\n",
       "      <td>9123.0</td>\n",
       "    </tr>\n",
       "    <tr>\n",
       "      <th>produccionTon</th>\n",
       "      <td>17743.0</td>\n",
       "      <td>1748.450272</td>\n",
       "      <td>15001.241647</td>\n",
       "      <td>0.0</td>\n",
       "      <td>15.62</td>\n",
       "      <td>72.0</td>\n",
       "      <td>369.575</td>\n",
       "      <td>576000.0</td>\n",
       "    </tr>\n",
       "    <tr>\n",
       "      <th>rendimientoTonHa</th>\n",
       "      <td>17743.0</td>\n",
       "      <td>11.409525</td>\n",
       "      <td>16.263258</td>\n",
       "      <td>0.0</td>\n",
       "      <td>1.69</td>\n",
       "      <td>7.0</td>\n",
       "      <td>15.000</td>\n",
       "      <td>640.0</td>\n",
       "    </tr>\n",
       "    <tr>\n",
       "      <th>grupoCultivoOrd</th>\n",
       "      <td>17743.0</td>\n",
       "      <td>2.898946</td>\n",
       "      <td>1.681824</td>\n",
       "      <td>1.0</td>\n",
       "      <td>1.00</td>\n",
       "      <td>3.0</td>\n",
       "      <td>4.000</td>\n",
       "      <td>8.0</td>\n",
       "    </tr>\n",
       "    <tr>\n",
       "      <th>EstadoFinalOrd</th>\n",
       "      <td>17743.0</td>\n",
       "      <td>0.472017</td>\n",
       "      <td>0.973781</td>\n",
       "      <td>0.0</td>\n",
       "      <td>0.00</td>\n",
       "      <td>0.0</td>\n",
       "      <td>1.000</td>\n",
       "      <td>8.0</td>\n",
       "    </tr>\n",
       "    <tr>\n",
       "      <th>PeriodoOrd</th>\n",
       "      <td>17743.0</td>\n",
       "      <td>1.012399</td>\n",
       "      <td>0.837531</td>\n",
       "      <td>0.0</td>\n",
       "      <td>0.00</td>\n",
       "      <td>1.0</td>\n",
       "      <td>2.000</td>\n",
       "      <td>2.0</td>\n",
       "    </tr>\n",
       "    <tr>\n",
       "      <th>CicloOrd</th>\n",
       "      <td>17743.0</td>\n",
       "      <td>0.356253</td>\n",
       "      <td>0.478905</td>\n",
       "      <td>0.0</td>\n",
       "      <td>0.00</td>\n",
       "      <td>0.0</td>\n",
       "      <td>1.000</td>\n",
       "      <td>1.0</td>\n",
       "    </tr>\n",
       "    <tr>\n",
       "      <th>CultivoFre</th>\n",
       "      <td>17743.0</td>\n",
       "      <td>647.344699</td>\n",
       "      <td>556.230785</td>\n",
       "      <td>1.0</td>\n",
       "      <td>215.00</td>\n",
       "      <td>394.0</td>\n",
       "      <td>1090.000</td>\n",
       "      <td>1624.0</td>\n",
       "    </tr>\n",
       "  </tbody>\n",
       "</table>\n",
       "</div>"
      ],
      "text/plain": [
       "                    count         mean           std  min     25%    50%  \\\n",
       "areaSembradaHa    17743.0    92.271643    368.156547  0.0    5.00   15.0   \n",
       "produccionTon     17743.0  1748.450272  15001.241647  0.0   15.62   72.0   \n",
       "rendimientoTonHa  17743.0    11.409525     16.263258  0.0    1.69    7.0   \n",
       "grupoCultivoOrd   17743.0     2.898946      1.681824  1.0    1.00    3.0   \n",
       "EstadoFinalOrd    17743.0     0.472017      0.973781  0.0    0.00    0.0   \n",
       "PeriodoOrd        17743.0     1.012399      0.837531  0.0    0.00    1.0   \n",
       "CicloOrd          17743.0     0.356253      0.478905  0.0    0.00    0.0   \n",
       "CultivoFre        17743.0   647.344699    556.230785  1.0  215.00  394.0   \n",
       "\n",
       "                       75%       max  \n",
       "areaSembradaHa      51.000    9123.0  \n",
       "produccionTon      369.575  576000.0  \n",
       "rendimientoTonHa    15.000     640.0  \n",
       "grupoCultivoOrd      4.000       8.0  \n",
       "EstadoFinalOrd       1.000       8.0  \n",
       "PeriodoOrd           2.000       2.0  \n",
       "CicloOrd             1.000       1.0  \n",
       "CultivoFre        1090.000    1624.0  "
      ]
     },
     "execution_count": 8,
     "metadata": {},
     "output_type": "execute_result"
    }
   ],
   "source": [
    "df_agro_Nuevo.describe().T"
   ]
  },
  {
   "cell_type": "code",
   "execution_count": 9,
   "metadata": {},
   "outputs": [
    {
     "data": {
      "image/png": "[encoded data removed]",
      "text/plain": [
       "<Figure size 1080x720 with 2 Axes>"
      ]
     },
     "metadata": {
      "needs_background": "light"
     },
     "output_type": "display_data"
    }
   ],
   "source": [
    "import seaborn as sns\n",
    "fig = plt.figure(figsize=(15,10))\n",
    "sns.heatmap(df_agro.corr(),annot=True,cmap='Greens')\n",
    "plt.show()"
   ]
  },
  {
   "cell_type": "markdown",
   "metadata": {},
   "source": [
    "### 1.4. Estandarización de los datos\n",
    "\n",
    "Se estandarizan los datos bajo los parametros de :\n",
    "\n",
    "$$\\mu \\approx 0$$\n",
    "\n",
    "$$\\sigma  = 1$$"
   ]
  },
  {
   "cell_type": "code",
   "execution_count": 10,
   "metadata": {},
   "outputs": [
    {
     "name": "stdout",
     "output_type": "stream",
     "text": [
      "-1.5560875043417305e-17\n",
      "1.0\n"
     ]
    }
   ],
   "source": [
    "from sklearn.preprocessing import StandardScaler\n",
    "scaler = StandardScaler()\n",
    "\n",
    "X = df_agro_Nuevo.drop(columns=['rendimientoTonHa']).iloc[:,2:]\n",
    "y = df_agro_Nuevo['rendimientoTonHa']\n",
    "\n",
    "X_scaler = scaler.fit_transform(X)\n",
    "print(X_scaler.mean())\n",
    "print(X_scaler.var())"
   ]
  },
  {
   "cell_type": "markdown",
   "metadata": {},
   "source": [
    "### 1.5. Reducción de la dimensionalidad usando PCA"
   ]
  },
  {
   "cell_type": "code",
   "execution_count": 11,
   "metadata": {},
   "outputs": [
    {
     "name": "stdout",
     "output_type": "stream",
     "text": [
      "[[-2.27559101 -0.11536979  0.1010148  -0.36157506  0.08742694  0.08563312]\n",
      " [ 1.01629889 -0.27435731  0.37248849  1.49073253 -1.12653938 -0.22858286]\n",
      " [ 1.07338329 -0.52125395  0.22030564  1.35929469 -1.06882422  0.03189008]\n",
      " ...\n",
      " [ 2.4599618  -0.10986219 -0.63408376 -0.58009387 -0.00780615  0.14134577]\n",
      " [ 1.71789883  0.01516619 -0.72431252  0.2093522   1.34875153 -0.10421791]\n",
      " [ 1.09260776  0.248373   -1.04265757 -0.21454423  1.13215436  0.01752294]]\n"
     ]
    }
   ],
   "source": [
    "from sklearn.decomposition import PCA\n",
    "\n",
    "pca= PCA(n_components=6)\n",
    "X_Pca=pca.fit_transform(X_scaler)\n",
    "print(X_Pca)"
   ]
  },
  {
   "cell_type": "code",
   "execution_count": 12,
   "metadata": {},
   "outputs": [
    {
     "name": "stdout",
     "output_type": "stream",
     "text": [
      "[0.36326851 0.27902172 0.1730174  0.07786985 0.05649877 0.03249997]\n",
      "0.9821762168966752\n"
     ]
    }
   ],
   "source": [
    "varianza=pca.explained_variance_ratio_\n",
    "print(varianza)\n",
    "print(varianza.sum())"
   ]
  },
  {
   "cell_type": "markdown",
   "metadata": {},
   "source": [
    "### 1.6. Técnica de Preprocesamiento One hot Encoding "
   ]
  },
  {
   "cell_type": "code",
   "execution_count": 13,
   "metadata": {},
   "outputs": [
    {
     "data": {
      "text/plain": [
       "(17743, 39)"
      ]
     },
     "execution_count": 13,
     "metadata": {},
     "output_type": "execute_result"
    }
   ],
   "source": [
    "df_agro_One = pd.get_dummies(df_agro,columns=['Periodo','cicloDelCultivo','grupoCultivo','Dpto','estadoFisicoCultivo'])\n",
    "df_agro_One.rename(columns={\n",
    "        'Municipio':'Municipio', \n",
    "        'desagregacionCultivo':'desagregacionCultivo', \n",
    "        'Cultivo':'Cultivo', \n",
    "        'Subgrupo':'Subgrupo', \n",
    "        'Anio':'Anio',\n",
    "        'areaSembradaHa':'areaSembradaHa',\n",
    "        'areaCosechadaHa':'areaCosechadaHa',\n",
    "        'produccionTon':'produccionTon',\n",
    "        'rendimientoTonHa':'rendimientoTonHa', \n",
    "        'nombreCientificoCultivo':'nombreCientificoCultivo', \n",
    "        'Periodo_A':'A', \n",
    "        'Periodo_B':'B',\n",
    "        'Periodo_C':'C', \n",
    "        'cicloDelCultivo_Permanente':'CicloPermanente',\n",
    "        'cicloDelCultivo_Transitorio':'CicloTransitorio',\n",
    "        'grupoCultivo_Cereales':'GpCereales',\n",
    "        'grupoCultivo_Condimentos Bebidas y Aromáticas':'GpCondimentosBebidasAromáticas',\n",
    "        'grupoCultivo_Cultivos Tropicales Tradicionales':'GpTropicalesTradicionales',\n",
    "        'grupoCultivo_Frutales':'GpFrutales',\n",
    "        'grupoCultivo_Hortalizas':'GpHortalizas',\n",
    "        'grupoCultivo_Leguminosas':'GpLeguminosas', \n",
    "        'grupoCultivo_Oleaginosas':'GpOleaginosas',\n",
    "        'grupoCultivo_Raíces y Tubérculos':'GpRaicesTuberculos', \n",
    "        'Dpto_Boyacá':'Boyaca', \n",
    "        'Dpto_Cundinamarca':'Cundinamarca',\n",
    "        'estadoFisicoCultivo_Aceite crudo':'EdoAceiteCrudo',\n",
    "        'estadoFisicoCultivo_Algodón semilla':'EdoAlgodónSemilla',\n",
    "        'estadoFisicoCultivo_Caña o verde':'EdoCañaVerde',\n",
    "        'estadoFisicoCultivo_En fresco':'Edofresco',\n",
    "        'estadoFisicoCultivo_Fibra o cabuya':'EdoFibraCabuya',\n",
    "        'estadoFisicoCultivo_Grano':'EdoGrano',\n",
    "        'estadoFisicoCultivo_Grano seco':'EdoGranoSeco',\n",
    "        'estadoFisicoCultivo_Paddy o cascara verde':'EdoPaddyCascaraVerde',\n",
    "        'estadoFisicoCultivo_Pergamino o seco de trilla':'EdoSecoTrilla'\n",
    "       },inplace=True)\n",
    "df_agro_One.shape"
   ]
  },
  {
   "cell_type": "code",
   "execution_count": 14,
   "metadata": {},
   "outputs": [
    {
     "data": {
      "text/html": [
       "<div>\n",
       "<style scoped>\n",
       "    .dataframe tbody tr th:only-of-type {\n",
       "        vertical-align: middle;\n",
       "    }\n",
       "\n",
       "    .dataframe tbody tr th {\n",
       "        vertical-align: top;\n",
       "    }\n",
       "\n",
       "    .dataframe thead th {\n",
       "        text-align: right;\n",
       "    }\n",
       "</style>\n",
       "<table border=\"1\" class=\"dataframe\">\n",
       "  <thead>\n",
       "    <tr style=\"text-align: right;\">\n",
       "      <th></th>\n",
       "      <th>Municipio</th>\n",
       "      <th>desagregacionCultivo</th>\n",
       "      <th>Cultivo</th>\n",
       "      <th>Subgrupo</th>\n",
       "      <th>Anio</th>\n",
       "      <th>areaSembradaHa</th>\n",
       "      <th>areaCosechadaHa</th>\n",
       "      <th>produccionTon</th>\n",
       "      <th>rendimientoTonHa</th>\n",
       "      <th>nombreCientificoCultivo</th>\n",
       "      <th>...</th>\n",
       "      <th>Cundinamarca</th>\n",
       "      <th>EdoAceiteCrudo</th>\n",
       "      <th>EdoAlgodónSemilla</th>\n",
       "      <th>EdoCañaVerde</th>\n",
       "      <th>Edofresco</th>\n",
       "      <th>EdoFibraCabuya</th>\n",
       "      <th>EdoGrano</th>\n",
       "      <th>EdoGranoSeco</th>\n",
       "      <th>EdoPaddyCascaraVerde</th>\n",
       "      <th>EdoSecoTrilla</th>\n",
       "    </tr>\n",
       "  </thead>\n",
       "  <tbody>\n",
       "    <tr>\n",
       "      <th>0</th>\n",
       "      <td>Tunja</td>\n",
       "      <td>Fresa</td>\n",
       "      <td>Fresa</td>\n",
       "      <td>Demas frutales</td>\n",
       "      <td>2019</td>\n",
       "      <td>3.0</td>\n",
       "      <td>3.0</td>\n",
       "      <td>30.0</td>\n",
       "      <td>10.0</td>\n",
       "      <td>Fragaria vesca</td>\n",
       "      <td>...</td>\n",
       "      <td>0</td>\n",
       "      <td>0</td>\n",
       "      <td>0</td>\n",
       "      <td>0</td>\n",
       "      <td>1</td>\n",
       "      <td>0</td>\n",
       "      <td>0</td>\n",
       "      <td>0</td>\n",
       "      <td>0</td>\n",
       "      <td>0</td>\n",
       "    </tr>\n",
       "    <tr>\n",
       "      <th>1</th>\n",
       "      <td>Tunja</td>\n",
       "      <td>Avena</td>\n",
       "      <td>Avena</td>\n",
       "      <td>Cereales</td>\n",
       "      <td>2019</td>\n",
       "      <td>160.0</td>\n",
       "      <td>160.0</td>\n",
       "      <td>480.0</td>\n",
       "      <td>3.0</td>\n",
       "      <td>Avena sativa</td>\n",
       "      <td>...</td>\n",
       "      <td>0</td>\n",
       "      <td>0</td>\n",
       "      <td>0</td>\n",
       "      <td>0</td>\n",
       "      <td>1</td>\n",
       "      <td>0</td>\n",
       "      <td>0</td>\n",
       "      <td>0</td>\n",
       "      <td>0</td>\n",
       "      <td>0</td>\n",
       "    </tr>\n",
       "    <tr>\n",
       "      <th>2</th>\n",
       "      <td>Tunja</td>\n",
       "      <td>Cebada</td>\n",
       "      <td>Cebada</td>\n",
       "      <td>Cereales</td>\n",
       "      <td>2019</td>\n",
       "      <td>20.0</td>\n",
       "      <td>20.0</td>\n",
       "      <td>60.0</td>\n",
       "      <td>3.0</td>\n",
       "      <td>Hordeum vulgare</td>\n",
       "      <td>...</td>\n",
       "      <td>0</td>\n",
       "      <td>0</td>\n",
       "      <td>0</td>\n",
       "      <td>0</td>\n",
       "      <td>1</td>\n",
       "      <td>0</td>\n",
       "      <td>0</td>\n",
       "      <td>0</td>\n",
       "      <td>0</td>\n",
       "      <td>0</td>\n",
       "    </tr>\n",
       "    <tr>\n",
       "      <th>3</th>\n",
       "      <td>Tunja</td>\n",
       "      <td>Maíz Tradicional</td>\n",
       "      <td>Maíz</td>\n",
       "      <td>Cereales</td>\n",
       "      <td>2019</td>\n",
       "      <td>180.0</td>\n",
       "      <td>180.0</td>\n",
       "      <td>360.0</td>\n",
       "      <td>2.0</td>\n",
       "      <td>Zea mays</td>\n",
       "      <td>...</td>\n",
       "      <td>0</td>\n",
       "      <td>0</td>\n",
       "      <td>0</td>\n",
       "      <td>0</td>\n",
       "      <td>1</td>\n",
       "      <td>0</td>\n",
       "      <td>0</td>\n",
       "      <td>0</td>\n",
       "      <td>0</td>\n",
       "      <td>0</td>\n",
       "    </tr>\n",
       "    <tr>\n",
       "      <th>4</th>\n",
       "      <td>Tunja</td>\n",
       "      <td>Cebolla De Bulbo</td>\n",
       "      <td>Cebolla De Bulbo</td>\n",
       "      <td>Hortalizas de raíz</td>\n",
       "      <td>2019</td>\n",
       "      <td>120.0</td>\n",
       "      <td>120.0</td>\n",
       "      <td>2400.0</td>\n",
       "      <td>20.0</td>\n",
       "      <td>Allium cepa</td>\n",
       "      <td>...</td>\n",
       "      <td>0</td>\n",
       "      <td>0</td>\n",
       "      <td>0</td>\n",
       "      <td>0</td>\n",
       "      <td>1</td>\n",
       "      <td>0</td>\n",
       "      <td>0</td>\n",
       "      <td>0</td>\n",
       "      <td>0</td>\n",
       "      <td>0</td>\n",
       "    </tr>\n",
       "  </tbody>\n",
       "</table>\n",
       "<p>5 rows × 39 columns</p>\n",
       "</div>"
      ],
      "text/plain": [
       "  Municipio desagregacionCultivo           Cultivo            Subgrupo  Anio  \\\n",
       "0     Tunja                Fresa             Fresa      Demas frutales  2019   \n",
       "1     Tunja                Avena             Avena            Cereales  2019   \n",
       "2     Tunja               Cebada            Cebada            Cereales  2019   \n",
       "3     Tunja     Maíz Tradicional              Maíz            Cereales  2019   \n",
       "4     Tunja     Cebolla De Bulbo  Cebolla De Bulbo  Hortalizas de raíz  2019   \n",
       "\n",
       "   areaSembradaHa  areaCosechadaHa  produccionTon  rendimientoTonHa  \\\n",
       "0             3.0              3.0           30.0              10.0   \n",
       "1           160.0            160.0          480.0               3.0   \n",
       "2            20.0             20.0           60.0               3.0   \n",
       "3           180.0            180.0          360.0               2.0   \n",
       "4           120.0            120.0         2400.0              20.0   \n",
       "\n",
       "  nombreCientificoCultivo  ...  Cundinamarca  EdoAceiteCrudo  \\\n",
       "0          Fragaria vesca  ...             0               0   \n",
       "1            Avena sativa  ...             0               0   \n",
       "2         Hordeum vulgare  ...             0               0   \n",
       "3                Zea mays  ...             0               0   \n",
       "4             Allium cepa  ...             0               0   \n",
       "\n",
       "   EdoAlgodónSemilla  EdoCañaVerde  Edofresco  EdoFibraCabuya  EdoGrano  \\\n",
       "0                  0             0          1               0         0   \n",
       "1                  0             0          1               0         0   \n",
       "2                  0             0          1               0         0   \n",
       "3                  0             0          1               0         0   \n",
       "4                  0             0          1               0         0   \n",
       "\n",
       "   EdoGranoSeco  EdoPaddyCascaraVerde  EdoSecoTrilla  \n",
       "0             0                     0              0  \n",
       "1             0                     0              0  \n",
       "2             0                     0              0  \n",
       "3             0                     0              0  \n",
       "4             0                     0              0  \n",
       "\n",
       "[5 rows x 39 columns]"
      ]
     },
     "execution_count": 14,
     "metadata": {},
     "output_type": "execute_result"
    }
   ],
   "source": [
    "df_agro_One.head()"
   ]
  },
  {
   "cell_type": "code",
   "execution_count": 15,
   "metadata": {},
   "outputs": [],
   "source": [
    "df_agro_One = df_agro_One.drop(columns=['Municipio','nombreCientificoCultivo','Subgrupo','desagregacionCultivo','areaCosechadaHa','grupoCultivoOrd','EstadoFinalOrd','PeriodoOrd',\n",
    "                                        'CicloOrd']) "
   ]
  },
  {
   "cell_type": "code",
   "execution_count": 16,
   "metadata": {},
   "outputs": [
    {
     "data": {
      "text/html": [
       "<div>\n",
       "<style scoped>\n",
       "    .dataframe tbody tr th:only-of-type {\n",
       "        vertical-align: middle;\n",
       "    }\n",
       "\n",
       "    .dataframe tbody tr th {\n",
       "        vertical-align: top;\n",
       "    }\n",
       "\n",
       "    .dataframe thead th {\n",
       "        text-align: right;\n",
       "    }\n",
       "</style>\n",
       "<table border=\"1\" class=\"dataframe\">\n",
       "  <thead>\n",
       "    <tr style=\"text-align: right;\">\n",
       "      <th></th>\n",
       "      <th>Cultivo</th>\n",
       "      <th>Anio</th>\n",
       "      <th>areaSembradaHa</th>\n",
       "      <th>produccionTon</th>\n",
       "      <th>rendimientoTonHa</th>\n",
       "      <th>CultivoFre</th>\n",
       "      <th>A</th>\n",
       "      <th>B</th>\n",
       "      <th>C</th>\n",
       "      <th>CicloPermanente</th>\n",
       "      <th>...</th>\n",
       "      <th>Cundinamarca</th>\n",
       "      <th>EdoAceiteCrudo</th>\n",
       "      <th>EdoAlgodónSemilla</th>\n",
       "      <th>EdoCañaVerde</th>\n",
       "      <th>Edofresco</th>\n",
       "      <th>EdoFibraCabuya</th>\n",
       "      <th>EdoGrano</th>\n",
       "      <th>EdoGranoSeco</th>\n",
       "      <th>EdoPaddyCascaraVerde</th>\n",
       "      <th>EdoSecoTrilla</th>\n",
       "    </tr>\n",
       "  </thead>\n",
       "  <tbody>\n",
       "    <tr>\n",
       "      <th>0</th>\n",
       "      <td>Fresa</td>\n",
       "      <td>2019</td>\n",
       "      <td>3.0</td>\n",
       "      <td>30.0</td>\n",
       "      <td>10.0</td>\n",
       "      <td>223</td>\n",
       "      <td>0</td>\n",
       "      <td>0</td>\n",
       "      <td>1</td>\n",
       "      <td>1</td>\n",
       "      <td>...</td>\n",
       "      <td>0</td>\n",
       "      <td>0</td>\n",
       "      <td>0</td>\n",
       "      <td>0</td>\n",
       "      <td>1</td>\n",
       "      <td>0</td>\n",
       "      <td>0</td>\n",
       "      <td>0</td>\n",
       "      <td>0</td>\n",
       "      <td>0</td>\n",
       "    </tr>\n",
       "    <tr>\n",
       "      <th>1</th>\n",
       "      <td>Avena</td>\n",
       "      <td>2019</td>\n",
       "      <td>160.0</td>\n",
       "      <td>480.0</td>\n",
       "      <td>3.0</td>\n",
       "      <td>88</td>\n",
       "      <td>1</td>\n",
       "      <td>0</td>\n",
       "      <td>0</td>\n",
       "      <td>0</td>\n",
       "      <td>...</td>\n",
       "      <td>0</td>\n",
       "      <td>0</td>\n",
       "      <td>0</td>\n",
       "      <td>0</td>\n",
       "      <td>1</td>\n",
       "      <td>0</td>\n",
       "      <td>0</td>\n",
       "      <td>0</td>\n",
       "      <td>0</td>\n",
       "      <td>0</td>\n",
       "    </tr>\n",
       "    <tr>\n",
       "      <th>2</th>\n",
       "      <td>Cebada</td>\n",
       "      <td>2019</td>\n",
       "      <td>20.0</td>\n",
       "      <td>60.0</td>\n",
       "      <td>3.0</td>\n",
       "      <td>186</td>\n",
       "      <td>1</td>\n",
       "      <td>0</td>\n",
       "      <td>0</td>\n",
       "      <td>0</td>\n",
       "      <td>...</td>\n",
       "      <td>0</td>\n",
       "      <td>0</td>\n",
       "      <td>0</td>\n",
       "      <td>0</td>\n",
       "      <td>1</td>\n",
       "      <td>0</td>\n",
       "      <td>0</td>\n",
       "      <td>0</td>\n",
       "      <td>0</td>\n",
       "      <td>0</td>\n",
       "    </tr>\n",
       "    <tr>\n",
       "      <th>3</th>\n",
       "      <td>Maíz</td>\n",
       "      <td>2019</td>\n",
       "      <td>180.0</td>\n",
       "      <td>360.0</td>\n",
       "      <td>2.0</td>\n",
       "      <td>1624</td>\n",
       "      <td>1</td>\n",
       "      <td>0</td>\n",
       "      <td>0</td>\n",
       "      <td>0</td>\n",
       "      <td>...</td>\n",
       "      <td>0</td>\n",
       "      <td>0</td>\n",
       "      <td>0</td>\n",
       "      <td>0</td>\n",
       "      <td>1</td>\n",
       "      <td>0</td>\n",
       "      <td>0</td>\n",
       "      <td>0</td>\n",
       "      <td>0</td>\n",
       "      <td>0</td>\n",
       "    </tr>\n",
       "    <tr>\n",
       "      <th>4</th>\n",
       "      <td>Cebolla De Bulbo</td>\n",
       "      <td>2019</td>\n",
       "      <td>120.0</td>\n",
       "      <td>2400.0</td>\n",
       "      <td>20.0</td>\n",
       "      <td>541</td>\n",
       "      <td>1</td>\n",
       "      <td>0</td>\n",
       "      <td>0</td>\n",
       "      <td>0</td>\n",
       "      <td>...</td>\n",
       "      <td>0</td>\n",
       "      <td>0</td>\n",
       "      <td>0</td>\n",
       "      <td>0</td>\n",
       "      <td>1</td>\n",
       "      <td>0</td>\n",
       "      <td>0</td>\n",
       "      <td>0</td>\n",
       "      <td>0</td>\n",
       "      <td>0</td>\n",
       "    </tr>\n",
       "  </tbody>\n",
       "</table>\n",
       "<p>5 rows × 30 columns</p>\n",
       "</div>"
      ],
      "text/plain": [
       "            Cultivo  Anio  areaSembradaHa  produccionTon  rendimientoTonHa  \\\n",
       "0             Fresa  2019             3.0           30.0              10.0   \n",
       "1             Avena  2019           160.0          480.0               3.0   \n",
       "2            Cebada  2019            20.0           60.0               3.0   \n",
       "3              Maíz  2019           180.0          360.0               2.0   \n",
       "4  Cebolla De Bulbo  2019           120.0         2400.0              20.0   \n",
       "\n",
       "   CultivoFre  A  B  C  CicloPermanente  ...  Cundinamarca  EdoAceiteCrudo  \\\n",
       "0         223  0  0  1                1  ...             0               0   \n",
       "1          88  1  0  0                0  ...             0               0   \n",
       "2         186  1  0  0                0  ...             0               0   \n",
       "3        1624  1  0  0                0  ...             0               0   \n",
       "4         541  1  0  0                0  ...             0               0   \n",
       "\n",
       "   EdoAlgodónSemilla  EdoCañaVerde  Edofresco  EdoFibraCabuya  EdoGrano  \\\n",
       "0                  0             0          1               0         0   \n",
       "1                  0             0          1               0         0   \n",
       "2                  0             0          1               0         0   \n",
       "3                  0             0          1               0         0   \n",
       "4                  0             0          1               0         0   \n",
       "\n",
       "   EdoGranoSeco  EdoPaddyCascaraVerde  EdoSecoTrilla  \n",
       "0             0                     0              0  \n",
       "1             0                     0              0  \n",
       "2             0                     0              0  \n",
       "3             0                     0              0  \n",
       "4             0                     0              0  \n",
       "\n",
       "[5 rows x 30 columns]"
      ]
     },
     "execution_count": 16,
     "metadata": {},
     "output_type": "execute_result"
    }
   ],
   "source": [
    "df_agro_One.head()"
   ]
  },
  {
   "cell_type": "markdown",
   "metadata": {},
   "source": [
    "### 1.7. División del conjunto de datos\n",
    "\n",
    "Se decide dividir el conjunto en datos de entrenamiento y en prueba, siendo este el 20% de los datos"
   ]
  },
  {
   "cell_type": "code",
   "execution_count": 17,
   "metadata": {},
   "outputs": [],
   "source": [
    "from  sklearn.model_selection import train_test_split\n",
    "X_train,X_test,y_train,y_test = train_test_split(X_Pca,y,test_size=0.2,random_state=42)"
   ]
  },
  {
   "cell_type": "markdown",
   "metadata": {},
   "source": [
    "## 2. Modelo de regresión"
   ]
  },
  {
   "cell_type": "markdown",
   "metadata": {},
   "source": [
    "### 2.1. Árboles de decisión con datos de frecuecia"
   ]
  },
  {
   "cell_type": "code",
   "execution_count": 18,
   "metadata": {},
   "outputs": [],
   "source": [
    "from sklearn.tree import DecisionTreeRegressor\n",
    "modelo_tree = DecisionTreeRegressor(random_state=42,max_depth=20)\n",
    "modelo_tree.fit(X_train,y_train)\n",
    "# modelo_tree.get_depth()\n",
    "y_predict_tree = modelo_tree.predict(X_test)\n",
    "\n",
    "# print(y_predict[0:10])\n",
    "# print(y_test[0:10].values)"
   ]
  },
  {
   "cell_type": "markdown",
   "metadata": {},
   "source": [
    "#### 2.1.1 Evaluación del modelo"
   ]
  },
  {
   "cell_type": "markdown",
   "metadata": {},
   "source": [
    "coeficiente de determinación o R2\n",
    "$$R^2 = 1 - \\dfrac{\\sum_{i}^{n}(y_{\\text{test}}-\\hat{y}_{\\text{predict}})^2}{\\sum_{i}^{n}(y_{\\text{test}}-\\bar{y}_{\\text{predict}})^2}$$\n",
    "\n",
    "Error Cuadrático Medio\n",
    "\n",
    "$$MSE = \\dfrac{\\sum_{i}^{n}(y_{\\text{test}}-\\hat{y}_{\\text{predict}})^2}{n}$$\n",
    "\n",
    "Raíz del Error Cuadrático Medio\n",
    "\n",
    "$$RMSE = \\sqrt{\\dfrac{\\sum_{i}^{n}(y_{\\text{test}}-\\hat{y}_{\\text{predict}})^2}{n}}$$"
   ]
  },
  {
   "cell_type": "code",
   "execution_count": 19,
   "metadata": {},
   "outputs": [
    {
     "name": "stdout",
     "output_type": "stream",
     "text": [
      "R^2 = 0.855\n",
      "MSE = 36.455\n",
      "RMSE = 6.038\n"
     ]
    }
   ],
   "source": [
    "# error cuadratico medio\n",
    "from sklearn.metrics import mean_squared_error\n",
    "import math\n",
    "\n",
    "mse = mean_squared_error(y_test,y_predict_tree)\n",
    "print(f'R^2 = {modelo_tree.score(X_test,y_test):.3f}')\n",
    "print(f'MSE = {mse:.3f}')\n",
    "print(f'RMSE = {math.sqrt(mse):.3f}')"
   ]
  },
  {
   "cell_type": "markdown",
   "metadata": {},
   "source": [
    "Valores aceptado debe estan definido en el rango\n",
    "$$ y = \\hat{y}_{\\_\\text{predict}} \\pm \\text{RMSE} $$"
   ]
  },
  {
   "cell_type": "code",
   "execution_count": 20,
   "metadata": {},
   "outputs": [
    {
     "name": "stdout",
     "output_type": "stream",
     "text": [
      "[11.92857143 25.         14.70245902  9.          4.91       20.47222222\n",
      "  8.88833333 15.          6.         27.        ]\n",
      "[10. 22. 10.  9.  4. 22. 11.  5.  7. 25.]\n"
     ]
    }
   ],
   "source": [
    "print(y_predict_tree[0:10])\n",
    "print(y_test[0:10].values)"
   ]
  },
  {
   "cell_type": "code",
   "execution_count": 21,
   "metadata": {},
   "outputs": [
    {
     "data": {
      "text/html": [
       "<div>\n",
       "<style scoped>\n",
       "    .dataframe tbody tr th:only-of-type {\n",
       "        vertical-align: middle;\n",
       "    }\n",
       "\n",
       "    .dataframe tbody tr th {\n",
       "        vertical-align: top;\n",
       "    }\n",
       "\n",
       "    .dataframe thead th {\n",
       "        text-align: right;\n",
       "    }\n",
       "</style>\n",
       "<table border=\"1\" class=\"dataframe\">\n",
       "  <thead>\n",
       "    <tr style=\"text-align: right;\">\n",
       "      <th></th>\n",
       "      <th>PCA1</th>\n",
       "      <th>PCA2</th>\n",
       "      <th>PCA3</th>\n",
       "      <th>PCA4</th>\n",
       "      <th>PCA5</th>\n",
       "      <th>PCA6</th>\n",
       "    </tr>\n",
       "  </thead>\n",
       "  <tbody>\n",
       "    <tr>\n",
       "      <th>0</th>\n",
       "      <td>-2.275591</td>\n",
       "      <td>-0.115370</td>\n",
       "      <td>0.101015</td>\n",
       "      <td>-0.361575</td>\n",
       "      <td>0.087427</td>\n",
       "      <td>0.085633</td>\n",
       "    </tr>\n",
       "    <tr>\n",
       "      <th>1</th>\n",
       "      <td>1.016299</td>\n",
       "      <td>-0.274357</td>\n",
       "      <td>0.372488</td>\n",
       "      <td>1.490733</td>\n",
       "      <td>-1.126539</td>\n",
       "      <td>-0.228583</td>\n",
       "    </tr>\n",
       "    <tr>\n",
       "      <th>2</th>\n",
       "      <td>1.073383</td>\n",
       "      <td>-0.521254</td>\n",
       "      <td>0.220306</td>\n",
       "      <td>1.359295</td>\n",
       "      <td>-1.068824</td>\n",
       "      <td>0.031890</td>\n",
       "    </tr>\n",
       "    <tr>\n",
       "      <th>3</th>\n",
       "      <td>2.343979</td>\n",
       "      <td>-0.203588</td>\n",
       "      <td>0.191657</td>\n",
       "      <td>-0.862682</td>\n",
       "      <td>-0.647423</td>\n",
       "      <td>-0.081042</td>\n",
       "    </tr>\n",
       "    <tr>\n",
       "      <th>4</th>\n",
       "      <td>0.653769</td>\n",
       "      <td>-0.627791</td>\n",
       "      <td>1.096255</td>\n",
       "      <td>0.575230</td>\n",
       "      <td>0.373366</td>\n",
       "      <td>-0.157758</td>\n",
       "    </tr>\n",
       "    <tr>\n",
       "      <th>...</th>\n",
       "      <td>...</td>\n",
       "      <td>...</td>\n",
       "      <td>...</td>\n",
       "      <td>...</td>\n",
       "      <td>...</td>\n",
       "      <td>...</td>\n",
       "    </tr>\n",
       "    <tr>\n",
       "      <th>17738</th>\n",
       "      <td>1.093528</td>\n",
       "      <td>0.256630</td>\n",
       "      <td>-1.038081</td>\n",
       "      <td>-0.215296</td>\n",
       "      <td>1.131111</td>\n",
       "      <td>0.007898</td>\n",
       "    </tr>\n",
       "    <tr>\n",
       "      <th>17739</th>\n",
       "      <td>0.877356</td>\n",
       "      <td>-0.098794</td>\n",
       "      <td>-0.346472</td>\n",
       "      <td>-0.350371</td>\n",
       "      <td>0.494716</td>\n",
       "      <td>0.046586</td>\n",
       "    </tr>\n",
       "    <tr>\n",
       "      <th>17740</th>\n",
       "      <td>2.459962</td>\n",
       "      <td>-0.109862</td>\n",
       "      <td>-0.634084</td>\n",
       "      <td>-0.580094</td>\n",
       "      <td>-0.007806</td>\n",
       "      <td>0.141346</td>\n",
       "    </tr>\n",
       "    <tr>\n",
       "      <th>17741</th>\n",
       "      <td>1.717899</td>\n",
       "      <td>0.015166</td>\n",
       "      <td>-0.724313</td>\n",
       "      <td>0.209352</td>\n",
       "      <td>1.348752</td>\n",
       "      <td>-0.104218</td>\n",
       "    </tr>\n",
       "    <tr>\n",
       "      <th>17742</th>\n",
       "      <td>1.092608</td>\n",
       "      <td>0.248373</td>\n",
       "      <td>-1.042658</td>\n",
       "      <td>-0.214544</td>\n",
       "      <td>1.132154</td>\n",
       "      <td>0.017523</td>\n",
       "    </tr>\n",
       "  </tbody>\n",
       "</table>\n",
       "<p>17743 rows × 6 columns</p>\n",
       "</div>"
      ],
      "text/plain": [
       "           PCA1      PCA2      PCA3      PCA4      PCA5      PCA6\n",
       "0     -2.275591 -0.115370  0.101015 -0.361575  0.087427  0.085633\n",
       "1      1.016299 -0.274357  0.372488  1.490733 -1.126539 -0.228583\n",
       "2      1.073383 -0.521254  0.220306  1.359295 -1.068824  0.031890\n",
       "3      2.343979 -0.203588  0.191657 -0.862682 -0.647423 -0.081042\n",
       "4      0.653769 -0.627791  1.096255  0.575230  0.373366 -0.157758\n",
       "...         ...       ...       ...       ...       ...       ...\n",
       "17738  1.093528  0.256630 -1.038081 -0.215296  1.131111  0.007898\n",
       "17739  0.877356 -0.098794 -0.346472 -0.350371  0.494716  0.046586\n",
       "17740  2.459962 -0.109862 -0.634084 -0.580094 -0.007806  0.141346\n",
       "17741  1.717899  0.015166 -0.724313  0.209352  1.348752 -0.104218\n",
       "17742  1.092608  0.248373 -1.042658 -0.214544  1.132154  0.017523\n",
       "\n",
       "[17743 rows x 6 columns]"
      ]
     },
     "execution_count": 21,
     "metadata": {},
     "output_type": "execute_result"
    }
   ],
   "source": [
    "X_grafica =pd.DataFrame(data=X_Pca,columns=['PCA1','PCA2','PCA3','PCA4','PCA5','PCA6'])\n",
    "X_grafica"
   ]
  },
  {
   "cell_type": "code",
   "execution_count": 22,
   "metadata": {},
   "outputs": [
    {
     "name": "stdout",
     "output_type": "stream",
     "text": [
      "|--- PCA3 <= 0.58\n",
      "|   |--- PCA3 <= -3.23\n",
      "|   |   |--- PCA6 <= 0.44\n",
      "|   |   |   |--- truncated branch of depth 18\n",
      "|   |   |--- PCA6 >  0.44\n",
      "|   |   |   |--- truncated branch of depth 4\n",
      "|   |--- PCA3 >  -3.23\n",
      "|   |   |--- PCA3 <= -0.03\n",
      "|   |   |   |--- truncated branch of depth 18\n",
      "|   |   |--- PCA3 >  -0.03\n",
      "|   |   |   |--- truncated branch of depth 18\n",
      "|--- PCA3 >  0.58\n",
      "|   |--- PCA6 <= 0.10\n",
      "|   |   |--- PCA5 <= 0.48\n",
      "|   |   |   |--- truncated branch of depth 18\n",
      "|   |   |--- PCA5 >  0.48\n",
      "|   |   |   |--- truncated branch of depth 11\n",
      "|   |--- PCA6 >  0.10\n",
      "|   |   |--- PCA5 <= 0.27\n",
      "|   |   |   |--- truncated branch of depth 9\n",
      "|   |   |--- PCA5 >  0.27\n",
      "|   |   |   |--- truncated branch of depth 15\n",
      "\n"
     ]
    },
    {
     "data": {
      "text/plain": [
       "<Figure size 1440x720 with 0 Axes>"
      ]
     },
     "metadata": {},
     "output_type": "display_data"
    }
   ],
   "source": [
    "from sklearn import tree \n",
    "import matplotlib.pyplot as plt\n",
    "\n",
    "# for arbol in (modelo_tree_clas.tree_):\n",
    "plt.figure(figsize=(20,10))\n",
    "print(tree.export_text(modelo_tree,feature_names=['PCA1','PCA2','PCA3','PCA4','PCA5','PCA6'],max_depth=2))\n",
    "# plt.show()"
   ]
  },
  {
   "cell_type": "markdown",
   "metadata": {},
   "source": [
    "### 2.2. Árboles de decisión con One hot Encoding"
   ]
  },
  {
   "cell_type": "code",
   "execution_count": 23,
   "metadata": {},
   "outputs": [
    {
     "name": "stdout",
     "output_type": "stream",
     "text": [
      "[ 3.  30.   6.   8.   3.  27.   5.4  2.   1.2 22. ]\n",
      "[10. 22. 10.  9.  4. 22. 11.  5.  7. 25.]\n"
     ]
    }
   ],
   "source": [
    "from sklearn.preprocessing import StandardScaler\n",
    "scaler = StandardScaler()\n",
    "\n",
    "X_one = df_agro_One.drop(columns='rendimientoTonHa').iloc[:,1:]\n",
    "y_one = df_agro_One['rendimientoTonHa']\n",
    "\n",
    "X_scaler_one = scaler.fit_transform(X_one)\n",
    "# print(X_scaler_one.mean())\n",
    "# print(X_scaler_one.var())\n",
    "from sklearn.decomposition import PCA\n",
    "\n",
    "pca= PCA(n_components=16)\n",
    "X_Pca_one=pca.fit_transform(X_scaler_one)\n",
    "# print(X_Pca_one)\n",
    "varianza=pca.explained_variance_ratio_\n",
    "# print(varianza)\n",
    "# print(varianza.sum())\n",
    "from  sklearn.model_selection import train_test_split\n",
    "X_train_one,X_test_one,y_train_one,y_test_one = train_test_split(X_Pca_one,y_one,test_size=0.2,random_state=42)\n",
    "\n",
    "### Modelo de regresión con árboles de decisión\n",
    "\n",
    "from sklearn.tree import DecisionTreeRegressor\n",
    "modelo_tree = DecisionTreeRegressor()\n",
    "modelo_tree.fit(X_train_one,y_train_one)\n",
    "y_predict_one = modelo_tree.predict(X_test_one)\n",
    "\n",
    "print(y_predict_one[0:10])\n",
    "print(y_test_one[0:10].values)"
   ]
  },
  {
   "cell_type": "code",
   "execution_count": 24,
   "metadata": {},
   "outputs": [
    {
     "name": "stdout",
     "output_type": "stream",
     "text": [
      "R^2 = 0.71\n",
      "MSE = 73.45\n",
      "RMSE = 8.57\n"
     ]
    }
   ],
   "source": [
    "print(f'R^2 = {modelo_tree.score(X_test_one,y_test_one):.2f}')\n",
    "mse_one = mean_squared_error(y_test_one,y_predict_one)\n",
    "print(f'MSE = {mse_one:.2f}')\n",
    "print(f'RMSE = {math.sqrt(mse_one):.2f}')"
   ]
  },
  {
   "cell_type": "markdown",
   "metadata": {},
   "source": [
    "### 2.3. Bosques aleatorios de Regresión"
   ]
  },
  {
   "cell_type": "code",
   "execution_count": 25,
   "metadata": {},
   "outputs": [
    {
     "data": {
      "text/html": [
       "<style>#sk-container-id-1 {color: black;background-color: white;}#sk-container-id-1 pre{padding: 0;}#sk-container-id-1 div.sk-toggleable {background-color: white;}#sk-container-id-1 label.sk-toggleable__label {cursor: pointer;display: block;width: 100%;margin-bottom: 0;padding: 0.3em;box-sizing: border-box;text-align: center;}#sk-container-id-1 label.sk-toggleable__label-arrow:before {content: \"▸\";float: left;margin-right: 0.25em;color: #696969;}#sk-container-id-1 label.sk-toggleable__label-arrow:hover:before {color: black;}#sk-container-id-1 div.sk-estimator:hover label.sk-toggleable__label-arrow:before {color: black;}#sk-container-id-1 div.sk-toggleable__content {max-height: 0;max-width: 0;overflow: hidden;text-align: left;background-color: #f0f8ff;}#sk-container-id-1 div.sk-toggleable__content pre {margin: 0.2em;color: black;border-radius: 0.25em;background-color: #f0f8ff;}#sk-container-id-1 input.sk-toggleable__control:checked~div.sk-toggleable__content {max-height: 200px;max-width: 100%;overflow: auto;}#sk-container-id-1 input.sk-toggleable__control:checked~label.sk-toggleable__label-arrow:before {content: \"▾\";}#sk-container-id-1 div.sk-estimator input.sk-toggleable__control:checked~label.sk-toggleable__label {background-color: #d4ebff;}#sk-container-id-1 div.sk-label input.sk-toggleable__control:checked~label.sk-toggleable__label {background-color: #d4ebff;}#sk-container-id-1 input.sk-hidden--visually {border: 0;clip: rect(1px 1px 1px 1px);clip: rect(1px, 1px, 1px, 1px);height: 1px;margin: -1px;overflow: hidden;padding: 0;position: absolute;width: 1px;}#sk-container-id-1 div.sk-estimator {font-family: monospace;background-color: #f0f8ff;border: 1px dotted black;border-radius: 0.25em;box-sizing: border-box;margin-bottom: 0.5em;}#sk-container-id-1 div.sk-estimator:hover {background-color: #d4ebff;}#sk-container-id-1 div.sk-parallel-item::after {content: \"\";width: 100%;border-bottom: 1px solid gray;flex-grow: 1;}#sk-container-id-1 div.sk-label:hover label.sk-toggleable__label {background-color: #d4ebff;}#sk-container-id-1 div.sk-serial::before {content: \"\";position: absolute;border-left: 1px solid gray;box-sizing: border-box;top: 0;bottom: 0;left: 50%;z-index: 0;}#sk-container-id-1 div.sk-serial {display: flex;flex-direction: column;align-items: center;background-color: white;padding-right: 0.2em;padding-left: 0.2em;position: relative;}#sk-container-id-1 div.sk-item {position: relative;z-index: 1;}#sk-container-id-1 div.sk-parallel {display: flex;align-items: stretch;justify-content: center;background-color: white;position: relative;}#sk-container-id-1 div.sk-item::before, #sk-container-id-1 div.sk-parallel-item::before {content: \"\";position: absolute;border-left: 1px solid gray;box-sizing: border-box;top: 0;bottom: 0;left: 50%;z-index: -1;}#sk-container-id-1 div.sk-parallel-item {display: flex;flex-direction: column;z-index: 1;position: relative;background-color: white;}#sk-container-id-1 div.sk-parallel-item:first-child::after {align-self: flex-end;width: 50%;}#sk-container-id-1 div.sk-parallel-item:last-child::after {align-self: flex-start;width: 50%;}#sk-container-id-1 div.sk-parallel-item:only-child::after {width: 0;}#sk-container-id-1 div.sk-dashed-wrapped {border: 1px dashed gray;margin: 0 0.4em 0.5em 0.4em;box-sizing: border-box;padding-bottom: 0.4em;background-color: white;}#sk-container-id-1 div.sk-label label {font-family: monospace;font-weight: bold;display: inline-block;line-height: 1.2em;}#sk-container-id-1 div.sk-label-container {text-align: center;}#sk-container-id-1 div.sk-container {/* jupyter's `normalize.less` sets `[hidden] { display: none; }` but bootstrap.min.css set `[hidden] { display: none !important; }` so we also need the `!important` here to be able to override the default hidden behavior on the sphinx rendered scikit-learn.org. See: https://github.com/scikit-learn/scikit-learn/issues/21755 */display: inline-block !important;position: relative;}#sk-container-id-1 div.sk-text-repr-fallback {display: none;}</style><div id=\"sk-container-id-1\" class=\"sk-top-container\"><div class=\"sk-text-repr-fallback\"><pre>RandomForestRegressor(max_depth=8, random_state=42)</pre><b>In a Jupyter environment, please rerun this cell to show the HTML representation or trust the notebook. <br />On GitHub, the HTML representation is unable to render, please try loading this page with nbviewer.org.</b></div><div class=\"sk-container\" hidden><div class=\"sk-item\"><div class=\"sk-estimator sk-toggleable\"><input class=\"sk-toggleable__control sk-hidden--visually\" id=\"sk-estimator-id-1\" type=\"checkbox\" checked><label for=\"sk-estimator-id-1\" class=\"sk-toggleable__label sk-toggleable__label-arrow\">RandomForestRegressor</label><div class=\"sk-toggleable__content\"><pre>RandomForestRegressor(max_depth=8, random_state=42)</pre></div></div></div></div></div>"
      ],
      "text/plain": [
       "RandomForestRegressor(max_depth=8, random_state=42)"
      ]
     },
     "execution_count": 25,
     "metadata": {},
     "output_type": "execute_result"
    }
   ],
   "source": [
    "from sklearn.ensemble import RandomForestRegressor\n",
    "from  sklearn.model_selection import train_test_split\n",
    "X_train_forest,X_test_forest,y_train_forest,y_test_forest = train_test_split(X_scaler,y,test_size=0.2,random_state=42)\n",
    "\n",
    "\n",
    "modelo_Forest_Regressor = RandomForestRegressor(n_estimators=100,\n",
    "                                                max_depth=8,\n",
    "                                                random_state=42)\n",
    "modelo_Forest_Regressor.fit(X_train_forest,y_train_forest)\n",
    "# modelo_Forest_Regressor.get_params()"
   ]
  },
  {
   "cell_type": "code",
   "execution_count": 26,
   "metadata": {},
   "outputs": [
    {
     "name": "stdout",
     "output_type": "stream",
     "text": [
      "R^2  = 0.888\n",
      "MSE  = 28.842\n",
      "RMSE = 5.370\n"
     ]
    }
   ],
   "source": [
    "# error cuadratico medio\n",
    "y_predict_rf = modelo_Forest_Regressor.predict(X_test_forest)\n",
    "\n",
    "print(f'R^2  = {modelo_Forest_Regressor.score(X_test_forest,y_test_forest):.3f}')\n",
    "mse = mean_squared_error(y_test_forest,y_predict_rf)\n",
    "print(f'MSE  = {mse:.3f}')\n",
    "print(f'RMSE = {math.sqrt(mse):.3f}')"
   ]
  },
  {
   "cell_type": "code",
   "execution_count": 27,
   "metadata": {},
   "outputs": [
    {
     "name": "stdout",
     "output_type": "stream",
     "text": [
      "[12.00688292 20.75858672 13.67774182  8.36807423  6.17702077]\n",
      "[10. 22. 10.  9.  4.]\n"
     ]
    }
   ],
   "source": [
    "print(y_predict_rf[0:5])\n",
    "print(y_test_forest[0:5].values)"
   ]
  },
  {
   "cell_type": "markdown",
   "metadata": {},
   "source": [
    "#### 2.3.1  Ajuste de los HiperParametros"
   ]
  },
  {
   "cell_type": "code",
   "execution_count": 28,
   "metadata": {},
   "outputs": [],
   "source": [
    "from sklearn.model_selection import GridSearchCV\n",
    "\n",
    "parametros_regresion = {'max_depth':(32,16,8),\n",
    "                        'n_estimators':(100,50,20)\n",
    "                         }\n",
    "\n",
    "modelo_Forest_Regressor = RandomForestRegressor(random_state=42)"
   ]
  },
  {
   "cell_type": "code",
   "execution_count": 29,
   "metadata": {},
   "outputs": [
    {
     "data": {
      "text/html": [
       "<style>#sk-container-id-2 {color: black;background-color: white;}#sk-container-id-2 pre{padding: 0;}#sk-container-id-2 div.sk-toggleable {background-color: white;}#sk-container-id-2 label.sk-toggleable__label {cursor: pointer;display: block;width: 100%;margin-bottom: 0;padding: 0.3em;box-sizing: border-box;text-align: center;}#sk-container-id-2 label.sk-toggleable__label-arrow:before {content: \"▸\";float: left;margin-right: 0.25em;color: #696969;}#sk-container-id-2 label.sk-toggleable__label-arrow:hover:before {color: black;}#sk-container-id-2 div.sk-estimator:hover label.sk-toggleable__label-arrow:before {color: black;}#sk-container-id-2 div.sk-toggleable__content {max-height: 0;max-width: 0;overflow: hidden;text-align: left;background-color: #f0f8ff;}#sk-container-id-2 div.sk-toggleable__content pre {margin: 0.2em;color: black;border-radius: 0.25em;background-color: #f0f8ff;}#sk-container-id-2 input.sk-toggleable__control:checked~div.sk-toggleable__content {max-height: 200px;max-width: 100%;overflow: auto;}#sk-container-id-2 input.sk-toggleable__control:checked~label.sk-toggleable__label-arrow:before {content: \"▾\";}#sk-container-id-2 div.sk-estimator input.sk-toggleable__control:checked~label.sk-toggleable__label {background-color: #d4ebff;}#sk-container-id-2 div.sk-label input.sk-toggleable__control:checked~label.sk-toggleable__label {background-color: #d4ebff;}#sk-container-id-2 input.sk-hidden--visually {border: 0;clip: rect(1px 1px 1px 1px);clip: rect(1px, 1px, 1px, 1px);height: 1px;margin: -1px;overflow: hidden;padding: 0;position: absolute;width: 1px;}#sk-container-id-2 div.sk-estimator {font-family: monospace;background-color: #f0f8ff;border: 1px dotted black;border-radius: 0.25em;box-sizing: border-box;margin-bottom: 0.5em;}#sk-container-id-2 div.sk-estimator:hover {background-color: #d4ebff;}#sk-container-id-2 div.sk-parallel-item::after {content: \"\";width: 100%;border-bottom: 1px solid gray;flex-grow: 1;}#sk-container-id-2 div.sk-label:hover label.sk-toggleable__label {background-color: #d4ebff;}#sk-container-id-2 div.sk-serial::before {content: \"\";position: absolute;border-left: 1px solid gray;box-sizing: border-box;top: 0;bottom: 0;left: 50%;z-index: 0;}#sk-container-id-2 div.sk-serial {display: flex;flex-direction: column;align-items: center;background-color: white;padding-right: 0.2em;padding-left: 0.2em;position: relative;}#sk-container-id-2 div.sk-item {position: relative;z-index: 1;}#sk-container-id-2 div.sk-parallel {display: flex;align-items: stretch;justify-content: center;background-color: white;position: relative;}#sk-container-id-2 div.sk-item::before, #sk-container-id-2 div.sk-parallel-item::before {content: \"\";position: absolute;border-left: 1px solid gray;box-sizing: border-box;top: 0;bottom: 0;left: 50%;z-index: -1;}#sk-container-id-2 div.sk-parallel-item {display: flex;flex-direction: column;z-index: 1;position: relative;background-color: white;}#sk-container-id-2 div.sk-parallel-item:first-child::after {align-self: flex-end;width: 50%;}#sk-container-id-2 div.sk-parallel-item:last-child::after {align-self: flex-start;width: 50%;}#sk-container-id-2 div.sk-parallel-item:only-child::after {width: 0;}#sk-container-id-2 div.sk-dashed-wrapped {border: 1px dashed gray;margin: 0 0.4em 0.5em 0.4em;box-sizing: border-box;padding-bottom: 0.4em;background-color: white;}#sk-container-id-2 div.sk-label label {font-family: monospace;font-weight: bold;display: inline-block;line-height: 1.2em;}#sk-container-id-2 div.sk-label-container {text-align: center;}#sk-container-id-2 div.sk-container {/* jupyter's `normalize.less` sets `[hidden] { display: none; }` but bootstrap.min.css set `[hidden] { display: none !important; }` so we also need the `!important` here to be able to override the default hidden behavior on the sphinx rendered scikit-learn.org. See: https://github.com/scikit-learn/scikit-learn/issues/21755 */display: inline-block !important;position: relative;}#sk-container-id-2 div.sk-text-repr-fallback {display: none;}</style><div id=\"sk-container-id-2\" class=\"sk-top-container\"><div class=\"sk-text-repr-fallback\"><pre>GridSearchCV(estimator=RandomForestRegressor(random_state=42),\n",
       "             param_grid={&#x27;max_depth&#x27;: (32, 16, 8),\n",
       "                         &#x27;n_estimators&#x27;: (100, 50, 20)},\n",
       "             scoring=&#x27;r2&#x27;)</pre><b>In a Jupyter environment, please rerun this cell to show the HTML representation or trust the notebook. <br />On GitHub, the HTML representation is unable to render, please try loading this page with nbviewer.org.</b></div><div class=\"sk-container\" hidden><div class=\"sk-item sk-dashed-wrapped\"><div class=\"sk-label-container\"><div class=\"sk-label sk-toggleable\"><input class=\"sk-toggleable__control sk-hidden--visually\" id=\"sk-estimator-id-2\" type=\"checkbox\" ><label for=\"sk-estimator-id-2\" class=\"sk-toggleable__label sk-toggleable__label-arrow\">GridSearchCV</label><div class=\"sk-toggleable__content\"><pre>GridSearchCV(estimator=RandomForestRegressor(random_state=42),\n",
       "             param_grid={&#x27;max_depth&#x27;: (32, 16, 8),\n",
       "                         &#x27;n_estimators&#x27;: (100, 50, 20)},\n",
       "             scoring=&#x27;r2&#x27;)</pre></div></div></div><div class=\"sk-parallel\"><div class=\"sk-parallel-item\"><div class=\"sk-item\"><div class=\"sk-label-container\"><div class=\"sk-label sk-toggleable\"><input class=\"sk-toggleable__control sk-hidden--visually\" id=\"sk-estimator-id-3\" type=\"checkbox\" ><label for=\"sk-estimator-id-3\" class=\"sk-toggleable__label sk-toggleable__label-arrow\">estimator: RandomForestRegressor</label><div class=\"sk-toggleable__content\"><pre>RandomForestRegressor(random_state=42)</pre></div></div></div><div class=\"sk-serial\"><div class=\"sk-item\"><div class=\"sk-estimator sk-toggleable\"><input class=\"sk-toggleable__control sk-hidden--visually\" id=\"sk-estimator-id-4\" type=\"checkbox\" ><label for=\"sk-estimator-id-4\" class=\"sk-toggleable__label sk-toggleable__label-arrow\">RandomForestRegressor</label><div class=\"sk-toggleable__content\"><pre>RandomForestRegressor(random_state=42)</pre></div></div></div></div></div></div></div></div></div></div>"
      ],
      "text/plain": [
       "GridSearchCV(estimator=RandomForestRegressor(random_state=42),\n",
       "             param_grid={'max_depth': (32, 16, 8),\n",
       "                         'n_estimators': (100, 50, 20)},\n",
       "             scoring='r2')"
      ]
     },
     "execution_count": 29,
     "metadata": {},
     "output_type": "execute_result"
    }
   ],
   "source": [
    "hiperParametros= GridSearchCV(modelo_Forest_Regressor,\n",
    "                                parametros_regresion,\n",
    "                                scoring='r2')\n",
    "\n",
    "hiperParametros.fit(X_train_forest,y_train_forest)"
   ]
  },
  {
   "cell_type": "code",
   "execution_count": 30,
   "metadata": {},
   "outputs": [
    {
     "name": "stdout",
     "output_type": "stream",
     "text": [
      "0.8780727546622085\n",
      "{'max_depth': 16, 'n_estimators': 100}\n"
     ]
    }
   ],
   "source": [
    "print(hiperParametros.best_score_)\n",
    "print(hiperParametros.best_params_)\n",
    "mejor_A=hiperParametros.best_estimator_"
   ]
  },
  {
   "cell_type": "code",
   "execution_count": 31,
   "metadata": {},
   "outputs": [
    {
     "name": "stdout",
     "output_type": "stream",
     "text": [
      "R^2  = 0.942\n",
      "MSE  = 14.981\n",
      "RMSE = 3.871\n"
     ]
    }
   ],
   "source": [
    "y_predict_rfh= mejor_A.predict(X_test_forest)\n",
    "\n",
    "print(f'R^2  = {mejor_A.score(X_test_forest,y_test_forest):.3f}')\n",
    "mse = mean_squared_error(y_test_forest,y_predict_rfh)\n",
    "print(f'MSE  = {mse:.3f}')\n",
    "print(f'RMSE = {math.sqrt(mse):.3f}')"
   ]
  },
  {
   "cell_type": "code",
   "execution_count": 32,
   "metadata": {},
   "outputs": [],
   "source": [
    "# print(hiperParametros.cv_results_[\"rank_test_score\"])\n",
    "# print(hiperParametros.cv_results_[\"mean_test_score\"])"
   ]
  },
  {
   "cell_type": "markdown",
   "metadata": {},
   "source": [
    "### 2.4. SVM de regresión"
   ]
  },
  {
   "cell_type": "code",
   "execution_count": 33,
   "metadata": {},
   "outputs": [
    {
     "data": {
      "text/html": [
       "<style>#sk-container-id-3 {color: black;background-color: white;}#sk-container-id-3 pre{padding: 0;}#sk-container-id-3 div.sk-toggleable {background-color: white;}#sk-container-id-3 label.sk-toggleable__label {cursor: pointer;display: block;width: 100%;margin-bottom: 0;padding: 0.3em;box-sizing: border-box;text-align: center;}#sk-container-id-3 label.sk-toggleable__label-arrow:before {content: \"▸\";float: left;margin-right: 0.25em;color: #696969;}#sk-container-id-3 label.sk-toggleable__label-arrow:hover:before {color: black;}#sk-container-id-3 div.sk-estimator:hover label.sk-toggleable__label-arrow:before {color: black;}#sk-container-id-3 div.sk-toggleable__content {max-height: 0;max-width: 0;overflow: hidden;text-align: left;background-color: #f0f8ff;}#sk-container-id-3 div.sk-toggleable__content pre {margin: 0.2em;color: black;border-radius: 0.25em;background-color: #f0f8ff;}#sk-container-id-3 input.sk-toggleable__control:checked~div.sk-toggleable__content {max-height: 200px;max-width: 100%;overflow: auto;}#sk-container-id-3 input.sk-toggleable__control:checked~label.sk-toggleable__label-arrow:before {content: \"▾\";}#sk-container-id-3 div.sk-estimator input.sk-toggleable__control:checked~label.sk-toggleable__label {background-color: #d4ebff;}#sk-container-id-3 div.sk-label input.sk-toggleable__control:checked~label.sk-toggleable__label {background-color: #d4ebff;}#sk-container-id-3 input.sk-hidden--visually {border: 0;clip: rect(1px 1px 1px 1px);clip: rect(1px, 1px, 1px, 1px);height: 1px;margin: -1px;overflow: hidden;padding: 0;position: absolute;width: 1px;}#sk-container-id-3 div.sk-estimator {font-family: monospace;background-color: #f0f8ff;border: 1px dotted black;border-radius: 0.25em;box-sizing: border-box;margin-bottom: 0.5em;}#sk-container-id-3 div.sk-estimator:hover {background-color: #d4ebff;}#sk-container-id-3 div.sk-parallel-item::after {content: \"\";width: 100%;border-bottom: 1px solid gray;flex-grow: 1;}#sk-container-id-3 div.sk-label:hover label.sk-toggleable__label {background-color: #d4ebff;}#sk-container-id-3 div.sk-serial::before {content: \"\";position: absolute;border-left: 1px solid gray;box-sizing: border-box;top: 0;bottom: 0;left: 50%;z-index: 0;}#sk-container-id-3 div.sk-serial {display: flex;flex-direction: column;align-items: center;background-color: white;padding-right: 0.2em;padding-left: 0.2em;position: relative;}#sk-container-id-3 div.sk-item {position: relative;z-index: 1;}#sk-container-id-3 div.sk-parallel {display: flex;align-items: stretch;justify-content: center;background-color: white;position: relative;}#sk-container-id-3 div.sk-item::before, #sk-container-id-3 div.sk-parallel-item::before {content: \"\";position: absolute;border-left: 1px solid gray;box-sizing: border-box;top: 0;bottom: 0;left: 50%;z-index: -1;}#sk-container-id-3 div.sk-parallel-item {display: flex;flex-direction: column;z-index: 1;position: relative;background-color: white;}#sk-container-id-3 div.sk-parallel-item:first-child::after {align-self: flex-end;width: 50%;}#sk-container-id-3 div.sk-parallel-item:last-child::after {align-self: flex-start;width: 50%;}#sk-container-id-3 div.sk-parallel-item:only-child::after {width: 0;}#sk-container-id-3 div.sk-dashed-wrapped {border: 1px dashed gray;margin: 0 0.4em 0.5em 0.4em;box-sizing: border-box;padding-bottom: 0.4em;background-color: white;}#sk-container-id-3 div.sk-label label {font-family: monospace;font-weight: bold;display: inline-block;line-height: 1.2em;}#sk-container-id-3 div.sk-label-container {text-align: center;}#sk-container-id-3 div.sk-container {/* jupyter's `normalize.less` sets `[hidden] { display: none; }` but bootstrap.min.css set `[hidden] { display: none !important; }` so we also need the `!important` here to be able to override the default hidden behavior on the sphinx rendered scikit-learn.org. See: https://github.com/scikit-learn/scikit-learn/issues/21755 */display: inline-block !important;position: relative;}#sk-container-id-3 div.sk-text-repr-fallback {display: none;}</style><div id=\"sk-container-id-3\" class=\"sk-top-container\"><div class=\"sk-text-repr-fallback\"><pre>GridSearchCV(estimator=SVR(),\n",
       "             param_grid={&#x27;kernel&#x27;: (&#x27;linear&#x27;, &#x27;poly&#x27;, &#x27;rbf&#x27;, &#x27;sigmoid&#x27;)},\n",
       "             scoring=&#x27;r2&#x27;)</pre><b>In a Jupyter environment, please rerun this cell to show the HTML representation or trust the notebook. <br />On GitHub, the HTML representation is unable to render, please try loading this page with nbviewer.org.</b></div><div class=\"sk-container\" hidden><div class=\"sk-item sk-dashed-wrapped\"><div class=\"sk-label-container\"><div class=\"sk-label sk-toggleable\"><input class=\"sk-toggleable__control sk-hidden--visually\" id=\"sk-estimator-id-5\" type=\"checkbox\" ><label for=\"sk-estimator-id-5\" class=\"sk-toggleable__label sk-toggleable__label-arrow\">GridSearchCV</label><div class=\"sk-toggleable__content\"><pre>GridSearchCV(estimator=SVR(),\n",
       "             param_grid={&#x27;kernel&#x27;: (&#x27;linear&#x27;, &#x27;poly&#x27;, &#x27;rbf&#x27;, &#x27;sigmoid&#x27;)},\n",
       "             scoring=&#x27;r2&#x27;)</pre></div></div></div><div class=\"sk-parallel\"><div class=\"sk-parallel-item\"><div class=\"sk-item\"><div class=\"sk-label-container\"><div class=\"sk-label sk-toggleable\"><input class=\"sk-toggleable__control sk-hidden--visually\" id=\"sk-estimator-id-6\" type=\"checkbox\" ><label for=\"sk-estimator-id-6\" class=\"sk-toggleable__label sk-toggleable__label-arrow\">estimator: SVR</label><div class=\"sk-toggleable__content\"><pre>SVR()</pre></div></div></div><div class=\"sk-serial\"><div class=\"sk-item\"><div class=\"sk-estimator sk-toggleable\"><input class=\"sk-toggleable__control sk-hidden--visually\" id=\"sk-estimator-id-7\" type=\"checkbox\" ><label for=\"sk-estimator-id-7\" class=\"sk-toggleable__label sk-toggleable__label-arrow\">SVR</label><div class=\"sk-toggleable__content\"><pre>SVR()</pre></div></div></div></div></div></div></div></div></div></div>"
      ],
      "text/plain": [
       "GridSearchCV(estimator=SVR(),\n",
       "             param_grid={'kernel': ('linear', 'poly', 'rbf', 'sigmoid')},\n",
       "             scoring='r2')"
      ]
     },
     "execution_count": 33,
     "metadata": {},
     "output_type": "execute_result"
    }
   ],
   "source": [
    "from sklearn.svm import SVR\n",
    "model_SVM = SVR()\n",
    "\n",
    "parametros_SVR = {'kernel':('linear','poly','rbf','sigmoid')}\n",
    "hiperParametros_SVR = GridSearchCV(model_SVM,\n",
    "                                   parametros_SVR,\n",
    "                                   scoring='r2')\n",
    "hiperParametros_SVR.fit(X_train,y_train)"
   ]
  },
  {
   "cell_type": "code",
   "execution_count": 34,
   "metadata": {},
   "outputs": [
    {
     "data": {
      "text/plain": [
       "{'cv': None,\n",
       " 'error_score': nan,\n",
       " 'estimator__C': 1.0,\n",
       " 'estimator__cache_size': 200,\n",
       " 'estimator__coef0': 0.0,\n",
       " 'estimator__degree': 3,\n",
       " 'estimator__epsilon': 0.1,\n",
       " 'estimator__gamma': 'scale',\n",
       " 'estimator__kernel': 'rbf',\n",
       " 'estimator__max_iter': -1,\n",
       " 'estimator__shrinking': True,\n",
       " 'estimator__tol': 0.001,\n",
       " 'estimator__verbose': False,\n",
       " 'estimator': SVR(),\n",
       " 'n_jobs': None,\n",
       " 'param_grid': {'kernel': ('linear', 'poly', 'rbf', 'sigmoid')},\n",
       " 'pre_dispatch': '2*n_jobs',\n",
       " 'refit': True,\n",
       " 'return_train_score': False,\n",
       " 'scoring': 'r2',\n",
       " 'verbose': 0}"
      ]
     },
     "execution_count": 34,
     "metadata": {},
     "output_type": "execute_result"
    }
   ],
   "source": [
    "hiperParametros_SVR.get_params()"
   ]
  },
  {
   "cell_type": "code",
   "execution_count": 35,
   "metadata": {},
   "outputs": [
    {
     "name": "stdout",
     "output_type": "stream",
     "text": [
      "R^2  = 0.462\n",
      "MSE  = 135.287\n",
      "RMSE = 11.631\n"
     ]
    }
   ],
   "source": [
    "y_predict_SVR=hiperParametros_SVR.predict(X_test)\n",
    "\n",
    "print(f'R^2  = {hiperParametros_SVR.score(X_test,y_test):.3f}')\n",
    "mse_SVR = mean_squared_error(y_test,y_predict_SVR)\n",
    "print(f'MSE  = {mse_SVR:.3f}')\n",
    "print(f'RMSE = {math.sqrt(mse_SVR):.3f}')"
   ]
  },
  {
   "cell_type": "markdown",
   "metadata": {},
   "source": [
    "## 3. Validación cruzada"
   ]
  },
  {
   "cell_type": "markdown",
   "metadata": {},
   "source": [
    "### 3.1. arboles de regresión"
   ]
  },
  {
   "cell_type": "code",
   "execution_count": 46,
   "metadata": {},
   "outputs": [
    {
     "name": "stdout",
     "output_type": "stream",
     "text": [
      "R^2 = 0.863\n"
     ]
    }
   ],
   "source": [
    "from sklearn.model_selection import KFold,cross_validate\n",
    "\n",
    "kf= KFold(n_splits=5,shuffle=True,random_state=42)\n",
    "metrics_tree = cross_validate(modelo_tree,\n",
    "                           X_Pca,y,\n",
    "                           cv=kf,\n",
    "                           scoring='r2')\n",
    "metrics_tree\n",
    "print(f'R^2 = {metrics_tree[\"test_score\"].mean():.3f}')"
   ]
  },
  {
   "cell_type": "markdown",
   "metadata": {},
   "source": [
    "### 3.2. Bosque de regresión"
   ]
  },
  {
   "cell_type": "code",
   "execution_count": 47,
   "metadata": {},
   "outputs": [
    {
     "name": "stdout",
     "output_type": "stream",
     "text": [
      "R^2 = 0.905\n"
     ]
    }
   ],
   "source": [
    "from sklearn.model_selection import KFold,cross_validate\n",
    "# kf= KFold(n_splits=5,shuffle=True,random_state=42)\n",
    "metrics_forest = cross_validate(modelo_Forest_Regressor,\n",
    "                           X_scaler,y,\n",
    "                           cv=kf,\n",
    "                           scoring='r2')\n",
    "metrics_forest\n",
    "print(f'R^2 = {metrics_forest[\"test_score\"].mean():.3f}')"
   ]
  },
  {
   "cell_type": "markdown",
   "metadata": {},
   "source": [
    "### 3.3. SVM de regresión"
   ]
  },
  {
   "cell_type": "code",
   "execution_count": 49,
   "metadata": {},
   "outputs": [
    {
     "data": {
      "text/plain": [
       "{'fit_time': array([7.59962368, 7.76415324, 7.38061666, 7.75188017, 7.21615267]),\n",
       " 'score_time': array([5.32437611, 4.1803844 , 4.36303329, 4.24266863, 4.42119575]),\n",
       " 'test_score': array([0.46176924, 0.44877029, 0.41582849, 0.45410069, 0.33128277])}"
      ]
     },
     "execution_count": 49,
     "metadata": {},
     "output_type": "execute_result"
    }
   ],
   "source": [
    "from sklearn.model_selection import KFold,cross_validate\n",
    "\n",
    "# kf= KFold(n_splits=5,shuffle=True,random_state=42)\n",
    "metrics_SVM = cross_validate(model_SVM,\n",
    "                           X_Pca,y,\n",
    "                           cv=kf,\n",
    "                           scoring='r2')\n",
    "metrics_SVM"
   ]
  },
  {
   "cell_type": "code",
   "execution_count": 50,
   "metadata": {},
   "outputs": [
    {
     "name": "stdout",
     "output_type": "stream",
     "text": [
      "R^2 = 0.422\n"
     ]
    }
   ],
   "source": [
    "print(f'R^2 = {metrics_SVM[\"test_score\"].mean():.3f}')"
   ]
  },
  {
   "cell_type": "code",
   "execution_count": 58,
   "metadata": {},
   "outputs": [],
   "source": [
    "lista_metricas = [metrics_tree['test_score'],metrics_forest['test_score'],metrics_SVM['test_score']]"
   ]
  },
  {
   "cell_type": "code",
   "execution_count": 66,
   "metadata": {},
   "outputs": [
    {
     "data": {
      "image/png": "[encoded data removed]",
      "text/plain": [
       "<Figure size 1296x288 with 3 Axes>"
      ]
     },
     "metadata": {
      "needs_background": "light"
     },
     "output_type": "display_data"
    }
   ],
   "source": [
    "def validacion_cruzada(metricas):\n",
    "    fig,ax = plt.subplots(nrows=1,ncols=3,figsize = (18,4))\n",
    "    fig.suptitle('Metricas R^2',fontsize=14)\n",
    "    ax[0].set_title('Arboles de regresión')\n",
    "    ax[0].bar(range(0,5),height=metricas[0],color = 'green')\n",
    "    ax[0].axhline(metricas[0].mean(),\n",
    "                color='red', linestyle='--',\n",
    "                linewidth=2,\n",
    "                label=f'Promedio: {metricas[0].mean():.3f}')\n",
    "    ax[0].set_xlabel('Validación')\n",
    "    ax[0].legend()\n",
    "\n",
    "    ax[1].set_title('Bosques Aletorios')\n",
    "    ax[1].bar(range(0,5),height=metricas[1],color = 'green')\n",
    "    ax[1].axhline(metricas[1].mean(),\n",
    "                color='red', linestyle='--',\n",
    "                linewidth=2,\n",
    "                label=f'Promedio: {metricas[1].mean():.3f}')\n",
    "    ax[1].set_xlabel('Validación')\n",
    "    ax[1].legend()\n",
    "\n",
    "    ax[2].set_title('SVM regresión')\n",
    "    ax[2].bar(range(0,5),height=metricas[2],color = 'green')\n",
    "    ax[2].axhline(metricas[2].mean(),\n",
    "                color='red', linestyle='--',\n",
    "                linewidth=2,\n",
    "                label=f'Promedio: {metricas[2].mean():.3f}')\n",
    "    ax[2].set_xlabel('Validación')\n",
    "    ax[2].legend()\n",
    "    fig.show()\n",
    "validacion_cruzada(lista_metricas)"
   ]
  },
  {
   "cell_type": "code",
   "execution_count": null,
   "metadata": {},
   "outputs": [],
   "source": [
    "# df_agro_Nuevo.to_csv(r'..\\\\Bases de datos\\\\EvaluacionAgro03.csv',sep=';',index=False)"
   ]
  }
 ],
 "metadata": {
  "kernelspec": {
   "display_name": "Python 3",
   "language": "python",
   "name": "python3"
  },
  "language_info": {
   "codemirror_mode": {
    "name": "ipython",
    "version": 3
   },
   "file_extension": ".py",
   "mimetype": "text/x-python",
   "name": "python",
   "nbconvert_exporter": "python",
   "pygments_lexer": "ipython3",
   "version": "3.10.5"
  }
 },
 "nbformat": 4,
 "nbformat_minor": 2
}
